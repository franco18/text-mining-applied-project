{
 "cells": [
  {
   "cell_type": "code",
   "execution_count": 1,
   "metadata": {},
   "outputs": [],
   "source": [
    "import xmltodict\n",
    "\n",
    "with open('papers-dc.xml') as fd:\n",
    "    doc = xmltodict.parse(fd.read())"
   ]
  },
  {
   "cell_type": "markdown",
   "metadata": {},
   "source": [
    "Para obtener la identificación"
   ]
  },
  {
   "cell_type": "code",
   "execution_count": 2,
   "metadata": {},
   "outputs": [
    {
     "data": {
      "text/plain": [
       "'0704.3504'"
      ]
     },
     "execution_count": 2,
     "metadata": {},
     "output_type": "execute_result"
    }
   ],
   "source": [
    "doc['OAI-PMH']['ListRecords']['record'][0]['header']['identifier'].split(\":\")[2]"
   ]
  },
  {
   "cell_type": "code",
   "execution_count": 3,
   "metadata": {},
   "outputs": [
    {
     "data": {
      "text/plain": [
       "\"Smooth R\\\\'enyi Entropy of Ergodic Quantum Information Sources\""
      ]
     },
     "execution_count": 3,
     "metadata": {},
     "output_type": "execute_result"
    }
   ],
   "source": [
    "doc['OAI-PMH']['ListRecords']['record'][0]['metadata']['oai_dc:dc']['dc:title']"
   ]
  },
  {
   "cell_type": "code",
   "execution_count": 4,
   "metadata": {},
   "outputs": [
    {
     "data": {
      "text/plain": [
       "['Schoenmakers, Berry', 'Tjoelker, Jilles', 'Tuyls, Pim', 'Verbitskiy, Evgeny']"
      ]
     },
     "execution_count": 4,
     "metadata": {},
     "output_type": "execute_result"
    }
   ],
   "source": [
    "doc['OAI-PMH']['ListRecords']['record'][0]['metadata']['oai_dc:dc']['dc:creator']"
   ]
  },
  {
   "cell_type": "code",
   "execution_count": 5,
   "metadata": {},
   "outputs": [
    {
     "data": {
      "text/plain": [
       "['Quantum Physics', 'Computer Science - Information Theory']"
      ]
     },
     "execution_count": 5,
     "metadata": {},
     "output_type": "execute_result"
    }
   ],
   "source": [
    "doc['OAI-PMH']['ListRecords']['record'][0]['metadata']['oai_dc:dc']['dc:subject']"
   ]
  },
  {
   "cell_type": "code",
   "execution_count": 6,
   "metadata": {},
   "outputs": [
    {
     "data": {
      "text/plain": [
       "['We prove that the average smooth Renyi entropy rate will approach the entropy\\nrate of a stationary, ergodic information source, which is equal to the Shannon\\nentropy rate for a classical information source and the von Neumann entropy\\nrate for a quantum information source.',\n",
       " 'Comment: 5 pages, no figures, ISIT 2007']"
      ]
     },
     "execution_count": 6,
     "metadata": {},
     "output_type": "execute_result"
    }
   ],
   "source": [
    "doc['OAI-PMH']['ListRecords']['record'][0]['metadata']['oai_dc:dc']['dc:description']"
   ]
  },
  {
   "cell_type": "code",
   "execution_count": 7,
   "metadata": {},
   "outputs": [],
   "source": [
    "def id_doc(record):\n",
    "    return record['header']['identifier'].split(\":\")[2]\n"
   ]
  },
  {
   "cell_type": "code",
   "execution_count": 8,
   "metadata": {},
   "outputs": [],
   "source": [
    "def titles(d):\n",
    "    vals = []\n",
    "    for a in d['OAI-PMH']['ListRecords']['record']:\n",
    "        vals.append(a['metadata']['oai_dc:dc']['dc:title'])        \n",
    "    return vals"
   ]
  },
  {
   "cell_type": "code",
   "execution_count": 9,
   "metadata": {},
   "outputs": [],
   "source": [
    "def document_meta_data(record):\n",
    "    return ','.join(map(str,[record['metadata']['oai_dc:dc']['dc:title'],\n",
    "        ''.join(map(str,record['metadata']['oai_dc:dc']['dc:creator'])),\n",
    "        ''.join(map(str,record['metadata']['oai_dc:dc']['dc:subject'])),\n",
    "        ''.join(map(str,record['metadata']['oai_dc:dc']['dc:description']))]))"
   ]
  },
  {
   "cell_type": "code",
   "execution_count": 10,
   "metadata": {
    "scrolled": false
   },
   "outputs": [],
   "source": [
    "def data_by_doc(record):\n",
    "    return (record['header']['identifier'].split(\":\")[2], document_meta_data(record))"
   ]
  },
  {
   "cell_type": "code",
   "execution_count": 11,
   "metadata": {},
   "outputs": [],
   "source": [
    "def build_data(d):\n",
    "    values = dict()\n",
    "    for a in d['OAI-PMH']['ListRecords']['record']:\n",
    "        values[id_doc(a)] = document_meta_data(a)\n",
    "    return values"
   ]
  },
  {
   "cell_type": "code",
   "execution_count": 12,
   "metadata": {
    "scrolled": true
   },
   "outputs": [],
   "source": [
    "h = build_data(doc)"
   ]
  },
  {
   "cell_type": "code",
   "execution_count": 18,
   "metadata": {},
   "outputs": [],
   "source": [
    "import json\n",
    "\n",
    "output = open(\"metadata_dict.txt\", \"w\")\n",
    "output.write(json.dumps(h))\n",
    "output.close()"
   ]
  },
  {
   "cell_type": "code",
   "execution_count": null,
   "metadata": {},
   "outputs": [],
   "source": []
  }
 ],
 "metadata": {
  "kernelspec": {
   "display_name": "Python 3",
   "language": "python",
   "name": "python3"
  },
  "language_info": {
   "codemirror_mode": {
    "name": "ipython",
    "version": 3
   },
   "file_extension": ".py",
   "mimetype": "text/x-python",
   "name": "python",
   "nbconvert_exporter": "python",
   "pygments_lexer": "ipython3",
   "version": "3.7.1"
  }
 },
 "nbformat": 4,
 "nbformat_minor": 2
}
