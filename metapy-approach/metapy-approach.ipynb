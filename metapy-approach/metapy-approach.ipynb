{
 "cells": [
  {
   "cell_type": "code",
   "execution_count": 1,
   "metadata": {},
   "outputs": [],
   "source": [
    "import metapy\n",
    "import glob\n",
    "import re"
   ]
  },
  {
   "cell_type": "code",
   "execution_count": 2,
   "metadata": {},
   "outputs": [
    {
     "ename": "KeyboardInterrupt",
     "evalue": "",
     "output_type": "error",
     "traceback": [
      "\u001b[1;31m---------------------------------------------------------------------------\u001b[0m",
      "\u001b[1;31mKeyboardInterrupt\u001b[0m                         Traceback (most recent call last)",
      "\u001b[1;32m<ipython-input-2-03fc6fc1917a>\u001b[0m in \u001b[0;36m<module>\u001b[1;34m()\u001b[0m\n\u001b[0;32m      5\u001b[0m \u001b[1;32mif\u001b[0m \u001b[1;32mnot\u001b[0m \u001b[0mos\u001b[0m\u001b[1;33m.\u001b[0m\u001b[0mpath\u001b[0m\u001b[1;33m.\u001b[0m\u001b[0mexists\u001b[0m\u001b[1;33m(\u001b[0m\u001b[1;34m'sigir18-tutorial.tar.gz'\u001b[0m\u001b[1;33m)\u001b[0m\u001b[1;33m:\u001b[0m\u001b[1;33m\u001b[0m\u001b[0m\n\u001b[0;32m      6\u001b[0m     urllib.request.urlretrieve('https://meta-toolkit.org/data/2018-06-25/sigir18-tutorial.tar.gz',\n\u001b[1;32m----> 7\u001b[1;33m                                'sigir18-tutorial.tar.gz')\n\u001b[0m\u001b[0;32m      8\u001b[0m \u001b[1;33m\u001b[0m\u001b[0m\n\u001b[0;32m      9\u001b[0m \u001b[1;32mif\u001b[0m \u001b[1;32mnot\u001b[0m \u001b[0mos\u001b[0m\u001b[1;33m.\u001b[0m\u001b[0mpath\u001b[0m\u001b[1;33m.\u001b[0m\u001b[0mexists\u001b[0m\u001b[1;33m(\u001b[0m\u001b[1;34m'data'\u001b[0m\u001b[1;33m)\u001b[0m\u001b[1;33m:\u001b[0m\u001b[1;33m\u001b[0m\u001b[0m\n",
      "\u001b[1;32m~\\Anaconda3\\lib\\urllib\\request.py\u001b[0m in \u001b[0;36murlretrieve\u001b[1;34m(url, filename, reporthook, data)\u001b[0m\n\u001b[0;32m    275\u001b[0m \u001b[1;33m\u001b[0m\u001b[0m\n\u001b[0;32m    276\u001b[0m             \u001b[1;32mwhile\u001b[0m \u001b[1;32mTrue\u001b[0m\u001b[1;33m:\u001b[0m\u001b[1;33m\u001b[0m\u001b[0m\n\u001b[1;32m--> 277\u001b[1;33m                 \u001b[0mblock\u001b[0m \u001b[1;33m=\u001b[0m \u001b[0mfp\u001b[0m\u001b[1;33m.\u001b[0m\u001b[0mread\u001b[0m\u001b[1;33m(\u001b[0m\u001b[0mbs\u001b[0m\u001b[1;33m)\u001b[0m\u001b[1;33m\u001b[0m\u001b[0m\n\u001b[0m\u001b[0;32m    278\u001b[0m                 \u001b[1;32mif\u001b[0m \u001b[1;32mnot\u001b[0m \u001b[0mblock\u001b[0m\u001b[1;33m:\u001b[0m\u001b[1;33m\u001b[0m\u001b[0m\n\u001b[0;32m    279\u001b[0m                     \u001b[1;32mbreak\u001b[0m\u001b[1;33m\u001b[0m\u001b[0m\n",
      "\u001b[1;32m~\\Anaconda3\\lib\\http\\client.py\u001b[0m in \u001b[0;36mread\u001b[1;34m(self, amt)\u001b[0m\n\u001b[0;32m    447\u001b[0m             \u001b[1;31m# Amount is given, implement using readinto\u001b[0m\u001b[1;33m\u001b[0m\u001b[1;33m\u001b[0m\u001b[0m\n\u001b[0;32m    448\u001b[0m             \u001b[0mb\u001b[0m \u001b[1;33m=\u001b[0m \u001b[0mbytearray\u001b[0m\u001b[1;33m(\u001b[0m\u001b[0mamt\u001b[0m\u001b[1;33m)\u001b[0m\u001b[1;33m\u001b[0m\u001b[0m\n\u001b[1;32m--> 449\u001b[1;33m             \u001b[0mn\u001b[0m \u001b[1;33m=\u001b[0m \u001b[0mself\u001b[0m\u001b[1;33m.\u001b[0m\u001b[0mreadinto\u001b[0m\u001b[1;33m(\u001b[0m\u001b[0mb\u001b[0m\u001b[1;33m)\u001b[0m\u001b[1;33m\u001b[0m\u001b[0m\n\u001b[0m\u001b[0;32m    450\u001b[0m             \u001b[1;32mreturn\u001b[0m \u001b[0mmemoryview\u001b[0m\u001b[1;33m(\u001b[0m\u001b[0mb\u001b[0m\u001b[1;33m)\u001b[0m\u001b[1;33m[\u001b[0m\u001b[1;33m:\u001b[0m\u001b[0mn\u001b[0m\u001b[1;33m]\u001b[0m\u001b[1;33m.\u001b[0m\u001b[0mtobytes\u001b[0m\u001b[1;33m(\u001b[0m\u001b[1;33m)\u001b[0m\u001b[1;33m\u001b[0m\u001b[0m\n\u001b[0;32m    451\u001b[0m         \u001b[1;32melse\u001b[0m\u001b[1;33m:\u001b[0m\u001b[1;33m\u001b[0m\u001b[0m\n",
      "\u001b[1;32m~\\Anaconda3\\lib\\http\\client.py\u001b[0m in \u001b[0;36mreadinto\u001b[1;34m(self, b)\u001b[0m\n\u001b[0;32m    491\u001b[0m         \u001b[1;31m# connection, and the user is reading more bytes than will be provided\u001b[0m\u001b[1;33m\u001b[0m\u001b[1;33m\u001b[0m\u001b[0m\n\u001b[0;32m    492\u001b[0m         \u001b[1;31m# (for example, reading in 1k chunks)\u001b[0m\u001b[1;33m\u001b[0m\u001b[1;33m\u001b[0m\u001b[0m\n\u001b[1;32m--> 493\u001b[1;33m         \u001b[0mn\u001b[0m \u001b[1;33m=\u001b[0m \u001b[0mself\u001b[0m\u001b[1;33m.\u001b[0m\u001b[0mfp\u001b[0m\u001b[1;33m.\u001b[0m\u001b[0mreadinto\u001b[0m\u001b[1;33m(\u001b[0m\u001b[0mb\u001b[0m\u001b[1;33m)\u001b[0m\u001b[1;33m\u001b[0m\u001b[0m\n\u001b[0m\u001b[0;32m    494\u001b[0m         \u001b[1;32mif\u001b[0m \u001b[1;32mnot\u001b[0m \u001b[0mn\u001b[0m \u001b[1;32mand\u001b[0m \u001b[0mb\u001b[0m\u001b[1;33m:\u001b[0m\u001b[1;33m\u001b[0m\u001b[0m\n\u001b[0;32m    495\u001b[0m             \u001b[1;31m# Ideally, we would raise IncompleteRead if the content-length\u001b[0m\u001b[1;33m\u001b[0m\u001b[1;33m\u001b[0m\u001b[0m\n",
      "\u001b[1;32m~\\Anaconda3\\lib\\socket.py\u001b[0m in \u001b[0;36mreadinto\u001b[1;34m(self, b)\u001b[0m\n\u001b[0;32m    584\u001b[0m         \u001b[1;32mwhile\u001b[0m \u001b[1;32mTrue\u001b[0m\u001b[1;33m:\u001b[0m\u001b[1;33m\u001b[0m\u001b[0m\n\u001b[0;32m    585\u001b[0m             \u001b[1;32mtry\u001b[0m\u001b[1;33m:\u001b[0m\u001b[1;33m\u001b[0m\u001b[0m\n\u001b[1;32m--> 586\u001b[1;33m                 \u001b[1;32mreturn\u001b[0m \u001b[0mself\u001b[0m\u001b[1;33m.\u001b[0m\u001b[0m_sock\u001b[0m\u001b[1;33m.\u001b[0m\u001b[0mrecv_into\u001b[0m\u001b[1;33m(\u001b[0m\u001b[0mb\u001b[0m\u001b[1;33m)\u001b[0m\u001b[1;33m\u001b[0m\u001b[0m\n\u001b[0m\u001b[0;32m    587\u001b[0m             \u001b[1;32mexcept\u001b[0m \u001b[0mtimeout\u001b[0m\u001b[1;33m:\u001b[0m\u001b[1;33m\u001b[0m\u001b[0m\n\u001b[0;32m    588\u001b[0m                 \u001b[0mself\u001b[0m\u001b[1;33m.\u001b[0m\u001b[0m_timeout_occurred\u001b[0m \u001b[1;33m=\u001b[0m \u001b[1;32mTrue\u001b[0m\u001b[1;33m\u001b[0m\u001b[0m\n",
      "\u001b[1;32m~\\Anaconda3\\lib\\ssl.py\u001b[0m in \u001b[0;36mrecv_into\u001b[1;34m(self, buffer, nbytes, flags)\u001b[0m\n\u001b[0;32m   1007\u001b[0m                   \u001b[1;34m\"non-zero flags not allowed in calls to recv_into() on %s\"\u001b[0m \u001b[1;33m%\u001b[0m\u001b[1;33m\u001b[0m\u001b[0m\n\u001b[0;32m   1008\u001b[0m                   self.__class__)\n\u001b[1;32m-> 1009\u001b[1;33m             \u001b[1;32mreturn\u001b[0m \u001b[0mself\u001b[0m\u001b[1;33m.\u001b[0m\u001b[0mread\u001b[0m\u001b[1;33m(\u001b[0m\u001b[0mnbytes\u001b[0m\u001b[1;33m,\u001b[0m \u001b[0mbuffer\u001b[0m\u001b[1;33m)\u001b[0m\u001b[1;33m\u001b[0m\u001b[0m\n\u001b[0m\u001b[0;32m   1010\u001b[0m         \u001b[1;32melse\u001b[0m\u001b[1;33m:\u001b[0m\u001b[1;33m\u001b[0m\u001b[0m\n\u001b[0;32m   1011\u001b[0m             \u001b[1;32mreturn\u001b[0m \u001b[0msocket\u001b[0m\u001b[1;33m.\u001b[0m\u001b[0mrecv_into\u001b[0m\u001b[1;33m(\u001b[0m\u001b[0mself\u001b[0m\u001b[1;33m,\u001b[0m \u001b[0mbuffer\u001b[0m\u001b[1;33m,\u001b[0m \u001b[0mnbytes\u001b[0m\u001b[1;33m,\u001b[0m \u001b[0mflags\u001b[0m\u001b[1;33m)\u001b[0m\u001b[1;33m\u001b[0m\u001b[0m\n",
      "\u001b[1;32m~\\Anaconda3\\lib\\ssl.py\u001b[0m in \u001b[0;36mread\u001b[1;34m(self, len, buffer)\u001b[0m\n\u001b[0;32m    869\u001b[0m             \u001b[1;32mraise\u001b[0m \u001b[0mValueError\u001b[0m\u001b[1;33m(\u001b[0m\u001b[1;34m\"Read on closed or unwrapped SSL socket.\"\u001b[0m\u001b[1;33m)\u001b[0m\u001b[1;33m\u001b[0m\u001b[0m\n\u001b[0;32m    870\u001b[0m         \u001b[1;32mtry\u001b[0m\u001b[1;33m:\u001b[0m\u001b[1;33m\u001b[0m\u001b[0m\n\u001b[1;32m--> 871\u001b[1;33m             \u001b[1;32mreturn\u001b[0m \u001b[0mself\u001b[0m\u001b[1;33m.\u001b[0m\u001b[0m_sslobj\u001b[0m\u001b[1;33m.\u001b[0m\u001b[0mread\u001b[0m\u001b[1;33m(\u001b[0m\u001b[0mlen\u001b[0m\u001b[1;33m,\u001b[0m \u001b[0mbuffer\u001b[0m\u001b[1;33m)\u001b[0m\u001b[1;33m\u001b[0m\u001b[0m\n\u001b[0m\u001b[0;32m    872\u001b[0m         \u001b[1;32mexcept\u001b[0m \u001b[0mSSLError\u001b[0m \u001b[1;32mas\u001b[0m \u001b[0mx\u001b[0m\u001b[1;33m:\u001b[0m\u001b[1;33m\u001b[0m\u001b[0m\n\u001b[0;32m    873\u001b[0m             \u001b[1;32mif\u001b[0m \u001b[0mx\u001b[0m\u001b[1;33m.\u001b[0m\u001b[0margs\u001b[0m\u001b[1;33m[\u001b[0m\u001b[1;36m0\u001b[0m\u001b[1;33m]\u001b[0m \u001b[1;33m==\u001b[0m \u001b[0mSSL_ERROR_EOF\u001b[0m \u001b[1;32mand\u001b[0m \u001b[0mself\u001b[0m\u001b[1;33m.\u001b[0m\u001b[0msuppress_ragged_eofs\u001b[0m\u001b[1;33m:\u001b[0m\u001b[1;33m\u001b[0m\u001b[0m\n",
      "\u001b[1;32m~\\Anaconda3\\lib\\ssl.py\u001b[0m in \u001b[0;36mread\u001b[1;34m(self, len, buffer)\u001b[0m\n\u001b[0;32m    629\u001b[0m         \"\"\"\n\u001b[0;32m    630\u001b[0m         \u001b[1;32mif\u001b[0m \u001b[0mbuffer\u001b[0m \u001b[1;32mis\u001b[0m \u001b[1;32mnot\u001b[0m \u001b[1;32mNone\u001b[0m\u001b[1;33m:\u001b[0m\u001b[1;33m\u001b[0m\u001b[0m\n\u001b[1;32m--> 631\u001b[1;33m             \u001b[0mv\u001b[0m \u001b[1;33m=\u001b[0m \u001b[0mself\u001b[0m\u001b[1;33m.\u001b[0m\u001b[0m_sslobj\u001b[0m\u001b[1;33m.\u001b[0m\u001b[0mread\u001b[0m\u001b[1;33m(\u001b[0m\u001b[0mlen\u001b[0m\u001b[1;33m,\u001b[0m \u001b[0mbuffer\u001b[0m\u001b[1;33m)\u001b[0m\u001b[1;33m\u001b[0m\u001b[0m\n\u001b[0m\u001b[0;32m    632\u001b[0m         \u001b[1;32melse\u001b[0m\u001b[1;33m:\u001b[0m\u001b[1;33m\u001b[0m\u001b[0m\n\u001b[0;32m    633\u001b[0m             \u001b[0mv\u001b[0m \u001b[1;33m=\u001b[0m \u001b[0mself\u001b[0m\u001b[1;33m.\u001b[0m\u001b[0m_sslobj\u001b[0m\u001b[1;33m.\u001b[0m\u001b[0mread\u001b[0m\u001b[1;33m(\u001b[0m\u001b[0mlen\u001b[0m\u001b[1;33m)\u001b[0m\u001b[1;33m\u001b[0m\u001b[0m\n",
      "\u001b[1;31mKeyboardInterrupt\u001b[0m: "
     ]
    }
   ],
   "source": [
    "import urllib.request\n",
    "import os\n",
    "import tarfile\n",
    "\n",
    "if not os.path.exists('sigir18-tutorial.tar.gz'):\n",
    "    urllib.request.urlretrieve('https://meta-toolkit.org/data/2018-06-25/sigir18-tutorial.tar.gz',\n",
    "                               'sigir18-tutorial.tar.gz')\n",
    "    \n",
    "if not os.path.exists('data'):\n",
    "    with tarfile.open('sigir18-tutorial.tar.gz', 'r:gz') as files:\n",
    "        files.extractall()"
   ]
  },
  {
   "cell_type": "code",
   "execution_count": 2,
   "metadata": {},
   "outputs": [],
   "source": [
    "inv_idx = metapy.index.make_inverted_index('cranfield.toml')"
   ]
  },
  {
   "cell_type": "code",
   "execution_count": 3,
   "metadata": {},
   "outputs": [
    {
     "data": {
      "text/plain": [
       "980"
      ]
     },
     "execution_count": 3,
     "metadata": {},
     "output_type": "execute_result"
    }
   ],
   "source": [
    "inv_idx.num_docs()"
   ]
  },
  {
   "cell_type": "code",
   "execution_count": 4,
   "metadata": {},
   "outputs": [
    {
     "data": {
      "text/plain": [
       "75497"
      ]
     },
     "execution_count": 4,
     "metadata": {},
     "output_type": "execute_result"
    }
   ],
   "source": [
    "inv_idx.unique_terms()"
   ]
  },
  {
   "cell_type": "code",
   "execution_count": 5,
   "metadata": {},
   "outputs": [
    {
     "data": {
      "text/plain": [
       "5057.46533203125"
      ]
     },
     "execution_count": 5,
     "metadata": {},
     "output_type": "execute_result"
    }
   ],
   "source": [
    "inv_idx.avg_doc_length()"
   ]
  },
  {
   "cell_type": "code",
   "execution_count": 6,
   "metadata": {},
   "outputs": [
    {
     "data": {
      "text/plain": [
       "4956316"
      ]
     },
     "execution_count": 6,
     "metadata": {},
     "output_type": "execute_result"
    }
   ],
   "source": [
    "inv_idx.total_corpus_terms()"
   ]
  },
  {
   "cell_type": "code",
   "execution_count": 7,
   "metadata": {},
   "outputs": [
    {
     "data": {
      "text/plain": [
       "[(659, 4.160825252532959),\n",
       " (686, 4.150136470794678),\n",
       " (617, 4.135360240936279),\n",
       " (499, 4.093870162963867),\n",
       " (898, 4.073121070861816)]"
      ]
     },
     "execution_count": 7,
     "metadata": {},
     "output_type": "execute_result"
    }
   ],
   "source": [
    "ranker = metapy.index.OkapiBM25()\n",
    "query = metapy.index.Document()\n",
    "query.content(\"biology and computer\") # query from AP news\n",
    "\n",
    "top_docs = ranker.score(inv_idx, query, num_results=5)\n",
    "top_docs"
   ]
  },
  {
   "cell_type": "code",
   "execution_count": 3,
   "metadata": {},
   "outputs": [],
   "source": [
    "files_txt = glob.glob(\"C:\\\\Users\\\\Andres\\\\Desktop\\\\MAESTRIA\\\\SEMESTRE_I\\\\texto\\\\papers-txt\\\\*\") #Computer Andres\n",
    "file1 = open(\"documents.dat\",\"w\", encoding=\"utf-8\")\n",
    "for file in files_txt:\n",
    "    #Leer Informacion\n",
    "    input_file = open(file,\"r\",encoding='utf-8')\n",
    "    texto = input_file.read().replace('\\n',' ')\n",
    "    texto = re.sub('[^A-Za-z0-9]+',' ',texto).lower()\n",
    "    file1.writelines(texto+'\\n')\n",
    "file1.close()\n"
   ]
  },
  {
   "cell_type": "code",
   "execution_count": 10,
   "metadata": {},
   "outputs": [
    {
     "data": {
      "text/plain": [
       "'analyzing design process and experiments on the anita generic tutoring system matthias r brust faculty of sciences technology and communication university of luxembourg l 1359 luxembourg luxembourg and steffen rothkugel faculty of sciences technology and communication university of luxembourg l 1359 luxembourg luxembourg abstract in the field of tutoring systems investigations have shown that there are many tutoring systems specific to a specific domain that because of their static architecture cannot be adapted to other domains as consequence often neither methods nor knowledge can be reused in addition the knowledge engineer must have programming skills in order to enhance and evaluate the system one particular challenge is to tackle these problems with the development of a generic tutoring system anita as a stand alone application has been developed and implemented particularly for this purpose however in the testing phase we discovered that this architecture did not fully match the user s intuitive understanding of the use of a learning tool therefore anita has been redesigned to exclusively work as a client server application and renamed to anita2 this paper discusses the evolvements made on the anita tutoring system the goal of which is to use generic principles for system re use in any domain two experiments were conducted and the results are presented in this paper keyword tutoring system anita component based web application and learning system 1 introduction research on tutoring systems in order to provide methods for more efficient and intense learning in computerbased training cbt has attracted a lot of attention however investigations have shown that there are many domain specific tutoring systems that cannot be adapted easily to other domains because of their static architecture and domain driven graphical user interface gui 5 pointed out that traditional tutoring systems are extremely domain dependant and neither methods nor knowledge can be reused evidently more and more tutoring systems have been developed to match the requirements of different disciplines as a consequence of this traditional architecture this work requires several persons to continue maintaining and developing the system i e a knowledge engineer with programming skills the general solution for these problems is to reuse the architecture of a tutoring system and substitute the domain specific parts with generic components our approach has been to first examine existing tutoring systems to extract common functionality after that these results have been described in terms of components this approach however also faced problems because in some cases it has been very difficult to discover and recognize dependencies between functionalities sometimes we have not even been able to classify components because of an extremely interwoven architecture 10 based upon these considerations anita a generic tutoring system has been developed and implemented in the generic tutoring system concept proposed the domain has been separated as far as possible from the architecture of the tutoring system itself the first draft of anita intended to serve as an environment for both training and testing we received positive feedback from the use of anita showing that it tackles the problems aforementioned however other problems of a different scope have been revealed throughout its use therefore we decided to partly redesign anita to deal with these problems as well this work reports on the evolvement of the anita tutoring system which aims to use generic principles for architecture re use in any domain in section 2 the development and design process of anita is described pointing out new obstacles and problems that appeared section 3 introduces anita2 as a method to tackle this situation experiments were setup and accomplished with anita2 their results are shown in section 4 section 5 gives an overview of the new project that integrates anita2 with calm 1 in order to work in a mobile environment based on ad hoc networks section 6 summarizes the experiences and results we obtained during our work with the anita tutoring system 2 anita training and testing concept anita is intended to serve as environment for both training and testing in the training mode students are able to play with the questions see what happens when choosing the wrong answers and recognizing major misconceptions in the test mode students demonstrate their understanding in an official test that can be evaluated by a human tutor on a remote computer to motivate learning anita provides a variety of question types multiple choice calculation driven and fill in theblank questions with two different fill in types text and combo box as already mentioned the domain has been separated from the architecture of the tutoring system itself one benefit of such a separation is the possibility to use xml for defining tests and thus a step towards establishing well known standards 8 based on such a language a professor with little or no programming skills is still able to model tests furthermore systemindependent domain design will be possible there will no longer be a need for a knowledge engineer usually tutoring systems are not able to adapt to student s knowledge it has been a challenge to investigate possibilities of finding generic principles of adaptation to do that test paradigms have been examined and realized as described in the subsequent section 4 test paradigms xml is used as technology to describe test paradigms anita realizes four test paradigms cf figure 2 1 free selection displays questions in the order they appear in the xml file causal links selection is sensitive to right and wrong answers implementation and architecture anita is a pure java stand alone application based on the swing gui that requires the java runtime environment to run with this application students can apply their knowledge in the available questionnaires interactions are evaluated but neither stored on the system s internal state nor on a local database in the testing mode anita can establish a connection to a remote database through a servlet that runs on the remote host because the servlet is written in java and the implemented database has a rational design a jdbc odbc driver is used to set up the communication between the servlet and the database the tests are stored on the client training mode or on the server testing mode as illustrated in figure 2 2 server client jdsk 2 1 anita java http anita servlet jdbc xml xml training test question 1 question 1 right question 2 anita db wrong balanced ordering constraint question 3 question n question nx browser server apache tomecat 5 0 question m html http session anita jsp question 1 dynamic ordering constraint question 2 question 3 jdbc question 4 xml test question 5 anita db question 6 ordering constraint question 7 figure 2 1 causal links dynamic ordering constraints and balanced ordering constraints as test paradigms in anita dynamic ordering constrain selection follows a predetermined order for selecting questions a forced ordering constraint question can only be called upon other question as a reference this paradigm takes into account the existence of a question that is a subpart of other questions and that according to the context cannot appear alone a dynamic ordering constraint selection enables the system to choose randomly from different constraints this feature is aimed to create different tests out of just one xml file balanced constraint selection is more basic from a conceptual point of view the attribute balance is introduced with its values n and p the n value implies an arithmetic average a for the last n selected questions if a is greater than p the system may continue selecting the next question and following the ordering constraints causal links or free selection otherwise the selection repeats the last n questions figure 2 2 overview of the anita architecture left and anita2 architecture right experiences as reported in 3 first experiments with anita have shown that students expressed mostly positive comments at this time we were able to apply four domains in anita operating systems statistics architecture and information systems we understood this as indication that we were on the promising way on creating a generic tutoring system successfully although these experiments were seen as encouraging for anita nowadays we have to re evaluate anita from a wider perspective and concede that important aspects had not been evaluated to install anita on the university s computer we needed a computer expert who knows how java programs work and how to install the java runtime environment anita had to be installed on all 28 computers in the lab although these steps may appear very simple we must not forget to design applications as simple as possible including their installation procedures furthermore because of the overall design swing xml parser complex data structures etc anita runs very slowly on older computers that can be found quite often in public labs it took between fifteen seconds and by designing the system in a component based way with respect to the question types now it is easy to create new questions types in anita2 because it is not necessary to change the application code additionally a performance meter was added this enables students to compare visually his her performance in a bar chart that shows the performance of the last 20 training units of one specific test figure 3 1 implementation architecture anita2 is designed on client server principles as a webapplication using java server pages jsp therefore anita2 does not have to be installed because it can be accessed using a standard internet browser tests are exclusively stored on the server side and are transmitted to the client on demand on a question by question basis all data is stored in a rational database on server side anita2 uses component based techniques for extensibility with respect to question types internally introspection is used to implement this feature introspection allows java code to discover information about the fields methods and constructors of arbitrary classes and to dynamically invoke them figure 3 1 login page and a fill in question with its correction one minute to launch anita on these computers obviously an undesirable situation finally another design flaw became apparent that we found unsatisfactory from a pedagogical point of view to evaluate the system and the student it would be best to have as much information as possible about both 8 however in anita the student could act autonomously in the training mode without ever publishing his her results and behavior the pedagogical value of anita decreased because it was almost impossible to receive data about the student s performance since the last tests even though it was satisfying having reached our goal it was disappointing to recognize that anita caused such serious problems as we observed these problems new technologies became available and we decided to redesign anita as a result anita2 has been implemented 3 anita2 evaluation based design concept the basic concept of anita did not change but it was extended in some areas as described in the previous section anita provides a variety of question types one concrete additional demand has been identified due to the following case a physician analyzed anita and expressed the desire to interact with x ray pictures to locate illness areas in anita2 we took this into account public string settest choose next question initialize the class loader multiclassloader loader null loader new fileclassloader globalvalues classes path file separator testclass loader loadclass anita n getnodename testobject testclass newinstance string testinhtml class classpara new class 1 classpara 0 org w3c dom node class method testmethod testobject getclass getmethod set n getnodename classpara testinhtml string testmethod invoke testobject new object n return testinhtml figure 3 2 anita2 code that invokes component based question types while reading the xml based questions anita2 needs to execute the appropriate code related to that question type questions types are not hard coded directly in the anita2 application rather question types can be added dynamically by simply changing the dtd specification and adding a new component to the system figure 3 2 shows the code that invokes the question types as described above 4 experiences with anita2 since anita2 is a generic approach it is important to validate the results with a variety of experiments in order to do this we set up an experiment in a language school as soon as anita2 became stable here anita2 provided basic questions to teach german to brazilians anita2 was improved by using the results of this experiment and another one was set up that focused on more in depth questions regarding the course operating systems at a european university language test one experiment was done in a language school in brazil all nine students were brazilians and between 18 and 24 years old they had attended their initial german course for eight weeks having two hours of lectures per week all students were well experienced with computers the questions were simple and covered a wide range the objective of our test was to find out if students who paid to learn english would use a free onlinelearning tool we also prepared anita2 to find answers to the following questions are there indicators that students would use this free tool on their own in which way would they use anita2 when how long how many times progress which influence does the use of anita2 have in the classroom they could take the test by using all of the teaching material and could use as much time they wanted we did not explain that it was a test to show if they really would use anita2 and we did not mention that any data was stored in a database result most of the students six students discontinued the test between the eighth and thirteenth question conclusion we wonder if students prefer a certain number of questions for being more motivated than with a different number and in which way the time they spend on the exercises is influencing on this number next experiments have to show this correlation result two students commented that it was problematic not to know how many questions remained conclusion the dtd specification of anita2 and anita2 code were modified to switch on the option to show the remaining number of questions on the left side of the anita page modifying the specification it has to be observed that the number of remaining question changes dynamically when using causal links dynamic ordering constraints and balanced ordering constraints for this it will be necessary to readapt the new feature to realize test paradigms result there was also the desire to present all question on one page conclusion here we recognized the desire to change anita2 s format to a traditional questionnaire furthermore after we asked more specific questions we discovered that the students hoped to find the answer to a question by reading other questions hints etc but we argued that this situation would complicate the creation of questionnaires because one question cannot be used to answer another question and this would restrict anita2 final conclusion most students had a job aside from doing their studies hence they sometimes could not attend the classes these students in particular used anita2 in their free time to try to make up for what they missed therefore there is a need for an extra option such as this during the lectures students started discussing about the anita2 system this seemed to encourage other students that did not use anita2 before to start using it probably because they wanted to be able to follow the discussion comparing the test results collected we discovered that a lot of students kept on using anita2 until they had answered all the questions correctly therefore we conclude that anita2 can be seen as a method to encourage learning in depth test for operating systems on the basis of the modifications which resulted from the first experiment we conducted a second experiment our domain was the discipline of synchronization as subpart of operating systems in an in depth level the participants were three students between the ages of 24 and 28 that have a few days to their final diploma exams the main questions were does anita2 have the capacity to design an indepth test would the results of the test match the professor s evaluation for the same student what is the student s opinion about using anita2 for testing or training they could not use the teaching material but could take as much time as they wanted we did not explain that it was a test to show if they really would use anita2 and we did not mention that any data would be stored in a database result all students confirmed that testing their knowledge on anita2 was very satisfying because they increased their self confidence for the real test they mentioned that they prefer anita2 to other multiplechoice based tutoring systems because of the variety of question types interestingly one of them started explaining that he felt more difficulties with pure text inputs than with multiple choice questions other students agreed with his opinion on this issue conclusion our decision to offer a component based system for question types is supported by some students opinions the classification of question types we did before the design of anita was understood intuitively by the students 2 result the desire was expressed that the tool could adapt to the student s knowledge conclusion in intelligent tutoring systems adaptation is an important role but we see it as a challenge to continue working on our generic adaptation methods although we focus on a tutoring system result one student pointed out that anita2 is surprisingly capable to testing algorithms and fragments of code in an interesting way but he also mentioned that these questions took a lot of time conclusion we conclude that it was unavoidable to add specific functionality to a generic tutoring concept in order to widen the scope this could also be a hint of the limits of the generic concept used in anita and anita2 final conclusion it is difficult to compare the student s performance on anita2 with the professor s evaluation because the system offers an in depth written test while the final diploma exam is an oral test that covers the entire discipline comparing anita s evaluation to the professor s the student tended to receive a higher grade from the professor we were not sure about the significance of this result so we decided to prepare another experiment to investigate this point more thoroughly finally the graphical performance meter was seen as very helpful for self evaluation 5 future work questions and annotations thereby increasing the scope and usefulness of the teaching material more and more students use palmtop and handheld computers at home and at university with larger memory capacities a variety of data input devices and the ability to link into wireless networks applications from different domains must be adapted to run in mobile environments in the future we will work on this challenge by developing carla a learning system for mobile ad hoc networks in contrast to the anita system the purpose of carla is to support cooperative learning for two reasons first because there are extreme constraints on information dissemination in ad hoc networks 6 a cooperative concept has a better chance of being successfully implemented on the other side we see this restriction as an opportunity to gain experience with postmodern learning theories i e cooperative and collaborative learning in a computer based mobile environment scenario for example students might join forces to prepare for exams teaching materials like lecture notes slides and basic questions are distributed to students at specific locations like the lecture room or professor s office this is done by a professor s mobile device or by a stationary node initially all students start using the same teaching material during a lecture students can write annotations on the slides 1 later they may want to test their knowledge by answering questions through this process they may discover a correlation between sections of the teaching material and their annotations and questions they can express their findings by adding links the resulting personalized material enables students to gain a deeper understanding of the subject as a cooperative environment the carla system aims to disseminate all additional material to the students carla enables students to analyze received material by using evaluation mechanisms the resulting evaluations will be shown on annotations links questions and teaching material to represent the usefulness of an element students are able to recognize misleading or falsified content more easily figure 5 1 gives an example of teaching material combined with additional elements teaching material question 6 conclusion in this paper the design and evolvement of the anita generic tutoring system is described the concept proposed intentionally separates the domain from the tutoring system the main benefit of this system is that it creates the possibility to apply an xml based language for tests and to establish standard directives for system design 8 based on the resulting language even professors with little or no programming skills are enabled to model tests and both the domain and tutoring system can be designed and maintained independently experiments with anita showed that it was necessary to re evaluate anita from a broader perspective and concede that important aspects had not been considered in both the evaluation and the design process while adapting anita to anita2 the code became about 25 shorter and more concise we concluded that this was the result of using a web browser as user interface the browser realizes the gui through based upon html code that is effectively plain text several years ago researchers were faced with the challenge of realizing learning environments as an internet based client server application since the use of mobile systems is increasing the focus has shifted to the development of self organized learning platforms for such systems carla was proposed as a way to deal with this new aspect we hope that carla can continue the work that the anita generic tutoring system has begun finally the results of our experiments indicate that anita2 seems to be a catalyst for increasing the efficiency and intensity of the learning process acknowledgments this research is supported in parts by the luxembourg minist re de la culture de l enseignement sup rieur et de la recherche statistics references annotation evaluation link annotation 1 c m adriano inquiring the course paradigm with calm international conference on engineering and computer education icece 1999 265 269 evaluation figure 5 1 illustrating the correlation between questions annotations links and evaluations carla is designed to run with short periods of interaction between the devices in the ad hoc network this design is important in order to take into account the restrictions of a mobile ad hoc network the objective of carla is not only for professors to be able to evaluate students cooperative work but also to steer the learning process in the right direction with additional links and or annotations 7 another benefit of carla is that the professor will be able to redesign the initial teaching material based on the students links 2 m r brust anita eine allgemeine xmlbasierte architektur fuer intelligente tutorielle systeme matthias rudolf brust dissertation for master of science university trier germany 2002 3 m r brust anita implementing e training and e tests environments by using a generic architecture based on xml xxx brazilian congress of education in engineering cobenge 2002 22 25 september 2002 piracicaba sao paulo brazil 4 m r brust applying test paradigms in a generic tutoring system concept for web based learning international conference on information and resource management philadelphia usa 2003 5 v devedzic d radovic on the notion of components for intelligent tutoring systems l in 4th international conference on intelligent tutoring systems its 98 proceedings san antonio texas eua 1998 6 ch hutter m r brust s rothkugel ads directory services for mobile ad hoc networks based on an information market model international workshop on ubiquitous computing iwuc 2004 porto portugal 2004 7 m r brust s rothkugel on anomalies in annotation systems the third advanced international conference on telecommunications aict 2007 mauritius 2007 8 w d leiva ch m adriano p c masiero computer supported authoring of questionaires icece 2000 s o paulo brazil 9 h h remmers n l gage j francis rummel a practical introduction to measurement and evaluation harper brothers publishers new york 1959 9 k vanlehn andes a coached problem solving environment for physics intelligent tutoring systems 5th international conference montreal canada gauthier frasson vanlehn eds springer lecture notes in computer science vol 1839 pp 133 142 '"
      ]
     },
     "execution_count": 10,
     "metadata": {},
     "output_type": "execute_result"
    }
   ],
   "source": [
    "input_file = open(files_txt[1],\"r\",encoding='utf-8')\n",
    "texto = input_file.read().replace('\\n',' ')\n",
    "texto = re.sub('[^A-Za-z0-9]+',' ',texto).lower()\n",
    "texto"
   ]
  }
 ],
 "metadata": {
  "kernelspec": {
   "display_name": "Python 3",
   "language": "python",
   "name": "python3"
  },
  "language_info": {
   "codemirror_mode": {
    "name": "ipython",
    "version": 3
   },
   "file_extension": ".py",
   "mimetype": "text/x-python",
   "name": "python",
   "nbconvert_exporter": "python",
   "pygments_lexer": "ipython3",
   "version": "3.6.4"
  }
 },
 "nbformat": 4,
 "nbformat_minor": 2
}
