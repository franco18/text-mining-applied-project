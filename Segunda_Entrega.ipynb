{
 "cells": [
  {
   "cell_type": "markdown",
   "metadata": {},
   "source": [
    "# Text-mining-applied-project\n",
    "\n",
    "Búsqueda y Recuperación de Información \n",
    "Se busca construir un sistema de búsqueda y recuperación de información que sea capaz de identificar información relevante para el usuario en grandes volúmenes de información (Documentos Científicos). Este proceso se lleva a cabo mediante la construcción de un Bag of Words, método utilizado para representar la información de los documentos en palabras."
   ]
  },
  {
   "cell_type": "code",
   "execution_count": 1,
   "metadata": {},
   "outputs": [],
   "source": [
    "import glob # libreria para extraer la ruta de los archivos\n",
    "import re # libreria para manejos de expresiones regulares\n",
    "import collections #### para poder contar los hash\n",
    "import pandas as pd # libreria para manejo de bases datos\n",
    "import numpy as np # libreria para manejo de vectores y arreglos\n",
    "import json #libreria para leer los metadatos guardados como un json\n",
    "import operator #Libreria para organizar de mayor a menor\n",
    "import matplotlib.pyplot as plt #libreria para graficas\n",
    "from nltk.corpus import stopwords, wordnet # importa las stop words y las palabras del ingles\n",
    "from nltk.stem.porter import PorterStemmer # metodo para stemming\n",
    "from nltk.stem.lancaster import LancasterStemmer # metodo para stemming\n",
    "from nltk.stem import WordNetLemmatizer # metodo para lematizar\n",
    "from sklearn.feature_extraction.text import CountVectorizer, TfidfVectorizer\n",
    "from nltk.tokenize import word_tokenize"
   ]
  },
  {
   "cell_type": "markdown",
   "metadata": {},
   "source": [
    "### Creación del Bag of Words\n",
    "Para la creación del Bag of Words se construye una lista de todos los documentos científicos almacenados en formato .txt, luego se extrae el texto de cada uno de los documentos y se realiza una limpieza para cada una de las palabras en los diferentes documentos. Entre los procesos de limpieza están:\n",
    "* Tokenización: Es el proceso de separar un texto en cadenas separadas por espacios o signos de puntuación.\n",
    "* Eliminar Stopwords: Eliminar palabras como artículos, conjunciones y preposiciones.\n",
    "* Stemming: Eliminar los sufijos de la palabra usando PorterStemmer de la librería NLTK.\n",
    "* Lematización: Proceso de convertir la palabra en la raíz\n",
    "* Otros: Limpieza de palabras de 1 carácter y palabras con más de tres letras consecutivas\n"
   ]
  },
  {
   "cell_type": "code",
   "execution_count": 2,
   "metadata": {},
   "outputs": [],
   "source": [
    "#Read Files\n",
    "files_txt = glob.glob(\"/opt/datasets/mcda-pi1-20191/papers-txt/*.txt\")\n",
    "#files_txt = glob.glob(\"C:\\\\Users\\\\Andres\\\\Desktop\\\\MAESTRIA\\\\SEMESTRE_I\\\\texto\\\\papers-txt\\\\*\") #Computer Andres\n",
    "\n",
    "# instanciar la clase para lematizar\n",
    "wordnet_lemmatizer = WordNetLemmatizer()\n",
    "stemmer = PorterStemmer() # instancia una forma de stemming\n",
    "# llamamos al diccionario de stop words en ingles\n",
    "sw = stopwords.words(\"english\")\n",
    "\n",
    "#leer Meta Datos\n",
    "#meta_data = open(\"xml_parser/metadata_dict.txt\",\"r\",encoding='utf-8').read()\n",
    "#meta_data = json.loads(meta_data)"
   ]
  },
  {
   "cell_type": "code",
   "execution_count": 3,
   "metadata": {},
   "outputs": [],
   "source": [
    "def tokenizer(texto):\n",
    "    texto  = texto.lower()\n",
    "    texto  = re.sub(\"\"\"(?:(?:https?|ftp):\\/\\/|\\b(?:[a-z\\d]+\\.))(?:(?:[^\\s()<>]+|\\((?:[^\\s()<>]+|(?:\\([^\\s()<>]+\\)))?\\))+(?:\\((?:[^\\s()<>]+|(?:\\(?:[^\\s()<>]+\\)))?\\)|[^\\s`!()\\[\\]{};:'\".,<>?«»“”‘’]))?\"\"\",' ',texto) # Eliminar las URL\n",
    "    texto  = re.sub('-|\\u2212|\\u2012|\\u2013|\\u2014|\\u2015',' ',texto)#\\(([^)]+)\\)|\\[([^)]+)\\]|\n",
    "    texto  = re.sub('((\\w*)?xyz|xyx|aba|abc|aab|zz|xx|yy|ijk(\\w*)?)', ' ',texto)\n",
    "    texto  = re.sub('[a-zA-Z0-9.?{}]+@\\w+\\.\\w+.\\w*',' ',texto) \n",
    "    texto  = re.sub('(á|à|ä)','a',texto)\n",
    "    texto  = re.sub('(é|è|ë)','e',texto)\n",
    "    texto  = re.sub('(í|ì|ï)','i',texto)\n",
    "    texto  = re.sub('(ó|ò|ö)','o',texto)\n",
    "    texto  = re.sub('(ú|ù|ü)','u',texto)\n",
    "    #texto = re.sub('[^A-Za-z0-9]+','',texto)\n",
    "    tokens = word_tokenize(texto)\n",
    "    tokens = [re.sub('[^A-Za-z0-9]+','',word) for word in tokens if not bool(re.search(r'(.)\\1{2,}', word))]\n",
    "    return tokens\n",
    "\n",
    "def limpiar_tokens(tokens, is_metadata = False):\n",
    "    if is_metadata:\n",
    "        #wordnet_lemmatizer.lemmatize(stemmer.stem(w.lower()), pos=\"v\")\n",
    "        return [wordnet_lemmatizer.lemmatize(stemmer.stem(w.lower()), pos=\"v\") for w in tokens if (len(w)>1) and (w not in sw) and w.isalpha()]       \n",
    "    else: \n",
    "        return [wordnet_lemmatizer.lemmatize(stemmer.stem(w.lower()), pos=\"v\") for w in tokens if (len(w)>1) and (len(w)<15) and (w not in sw) and w.isalpha() ] "
   ]
  },
  {
   "cell_type": "code",
   "execution_count": 4,
   "metadata": {},
   "outputs": [],
   "source": [
    "documentos_text = list()\n",
    "documentos      = list()\n",
    "for file in files_txt:\n",
    "    #Leer Informacion\n",
    "    input_file = open(file,\"r\",encoding='utf-8')\n",
    "    texto = input_file.read()\n",
    "    #meta_data_info = meta_data[file.replace(\"\\\\\",\"/\").split(\"/\")[-1].replace(\".txt\",\"\")]\n",
    "    \n",
    "    #tokenizacion\n",
    "    tokens = tokenizer(texto)\n",
    "    #tokens_metada = tokenizer(meta_data_info)\n",
    "    #mirar cant\n",
    "    \n",
    "    # aplica lematizacion, stemming, elimina de stop words y aplica reglas lógicas para reducir la cantidad de tokens\n",
    "    tokens = limpiar_tokens(tokens)\n",
    "    #tokens_metada = limpiar_tokens(tokens, is_metadata = True)\n",
    "    documentos_text.append(' '.join(tokens))# + tokens_metada\n",
    "    documentos.append(file)"
   ]
  },
  {
   "cell_type": "markdown",
   "metadata": {},
   "source": [
    "## Para la creación del Bag of Words\n",
    "\n",
    "### Usamos la librería de machine learning sklearn para construir nuestro diccionario de palabras \n",
    "\n",
    "* CountVectorizer: Nos permite contar el numero de palabras que ocurren en cada uno de los documentos tf\n",
    "* TfidfVectorizer: Calcula el tf  * idf donde idf = $log(\\frac{1+n}{1+df})+1$, cada fila del vector está en norma 2\n",
    "\n",
    "#### Referencias:\n",
    "1. [CountVectorizer](https://scikit-learn.org/stable/modules/generated/sklearn.feature_extraction.text.CountVectorizer.html#sklearn.feature_extraction.text.CountVectorizer)\n",
    "2. [TfidfVectorizer](https://scikit-learn.org/stable/modules/generated/sklearn.feature_extraction.text.TfidfVectorizer.html#sklearn.feature_extraction.text.TfidfVectorizer)\n"
   ]
  },
  {
   "cell_type": "code",
   "execution_count": 5,
   "metadata": {},
   "outputs": [
    {
     "name": "stderr",
     "output_type": "stream",
     "text": [
      "/opt/anaconda3/lib/python3.6/site-packages/sklearn/feature_extraction/text.py:300: UserWarning: Your stop_words may be inconsistent with your preprocessing. Tokenizing the stop words generated tokens [\"'d\", \"'ll\", \"'re\", \"'s\", \"'ve\", 'could', 'might', 'must', \"n't\", 'need', 'sha', 'wo', 'would'] not in stop_words.\n",
      "  'stop_words.' % sorted(inconsistent))\n"
     ]
    }
   ],
   "source": [
    "count_vectorizer = CountVectorizer(analyzer = \"word\",tokenizer = word_tokenize,    \\\n",
    "                             preprocessor = None, \\\n",
    "                             stop_words = sw,   \\\n",
    "                             lowercase = True,  \\\n",
    "                             max_features = None)\n",
    "\n",
    "\n",
    "bow_tf = count_vectorizer.fit_transform(documentos_text)"
   ]
  },
  {
   "cell_type": "code",
   "execution_count": 6,
   "metadata": {},
   "outputs": [
    {
     "data": {
      "text/plain": [
       "(980, 73643)"
      ]
     },
     "execution_count": 6,
     "metadata": {},
     "output_type": "execute_result"
    }
   ],
   "source": [
    "bow_tf.shape #doc, words"
   ]
  },
  {
   "cell_type": "code",
   "execution_count": 7,
   "metadata": {},
   "outputs": [],
   "source": [
    "tfidf_vectorizer=TfidfVectorizer(analyzer = \"word\",tokenizer = word_tokenize,    \\\n",
    "                             preprocessor = None, \\\n",
    "                             stop_words = sw,   \\\n",
    "                             lowercase = True,  \\\n",
    "                             max_features = None)\n",
    " \n",
    "# just send in all your docs here\n",
    "bow_tfidf = tfidf_vectorizer.fit_transform(documentos_text)"
   ]
  },
  {
   "cell_type": "code",
   "execution_count": 8,
   "metadata": {},
   "outputs": [
    {
     "data": {
      "text/plain": [
       "(980, 73643)"
      ]
     },
     "execution_count": 8,
     "metadata": {},
     "output_type": "execute_result"
    }
   ],
   "source": [
    "bow_tfidf.shape #doc, words"
   ]
  },
  {
   "cell_type": "markdown",
   "metadata": {},
   "source": [
    "### Convertimos el resultado de CountVectorizer y TfidfVectorizer a un DataFrame de Pandas\n",
    "Este proceso fue necesario porque estos objetos utilizan las listas nativas de python y se hizo muy ineficiente al momento de construir el inverted index, ya que por ser una lista de listas este tenia que buscar sobre todo el conjunto de datos. Con pandas utilizando la función loc, podíamos buscar la palabra o retornando solo el tf que necesitábamos haciendo una búsqueda dentro de nuestro bag of words.\n"
   ]
  },
  {
   "cell_type": "code",
   "execution_count": 9,
   "metadata": {},
   "outputs": [
    {
     "data": {
      "text/html": [
       "<div>\n",
       "<style scoped>\n",
       "    .dataframe tbody tr th:only-of-type {\n",
       "        vertical-align: middle;\n",
       "    }\n",
       "\n",
       "    .dataframe tbody tr th {\n",
       "        vertical-align: top;\n",
       "    }\n",
       "\n",
       "    .dataframe thead th {\n",
       "        text-align: right;\n",
       "    }\n",
       "</style>\n",
       "<table border=\"1\" class=\"dataframe\">\n",
       "  <thead>\n",
       "    <tr style=\"text-align: right;\">\n",
       "      <th></th>\n",
       "      <th>aa</th>\n",
       "      <th>aaa</th>\n",
       "      <th>aab</th>\n",
       "      <th>aabb</th>\n",
       "      <th>aachen</th>\n",
       "      <th>aad</th>\n",
       "      <th>aadm</th>\n",
       "      <th>aaecc</th>\n",
       "      <th>aaem</th>\n",
       "      <th>aag</th>\n",
       "      <th>...</th>\n",
       "      <th>zytnicki</th>\n",
       "      <th>zyuban</th>\n",
       "      <th>zyvoloski</th>\n",
       "      <th>zyy</th>\n",
       "      <th>zz</th>\n",
       "      <th>zzf</th>\n",
       "      <th>zzi</th>\n",
       "      <th>zzn</th>\n",
       "      <th>zzpe</th>\n",
       "      <th>zzr</th>\n",
       "    </tr>\n",
       "  </thead>\n",
       "  <tbody>\n",
       "    <tr>\n",
       "      <th>0</th>\n",
       "      <td>0.0</td>\n",
       "      <td>0.0</td>\n",
       "      <td>0.0</td>\n",
       "      <td>0.0</td>\n",
       "      <td>0.0</td>\n",
       "      <td>0.0</td>\n",
       "      <td>0.0</td>\n",
       "      <td>0.0</td>\n",
       "      <td>0.0</td>\n",
       "      <td>0.0</td>\n",
       "      <td>...</td>\n",
       "      <td>0.0</td>\n",
       "      <td>0.0</td>\n",
       "      <td>0.0</td>\n",
       "      <td>0.0</td>\n",
       "      <td>0.0</td>\n",
       "      <td>0.0</td>\n",
       "      <td>0.0</td>\n",
       "      <td>0.0</td>\n",
       "      <td>0.0</td>\n",
       "      <td>0.0</td>\n",
       "    </tr>\n",
       "    <tr>\n",
       "      <th>1</th>\n",
       "      <td>0.0</td>\n",
       "      <td>0.0</td>\n",
       "      <td>0.0</td>\n",
       "      <td>0.0</td>\n",
       "      <td>0.0</td>\n",
       "      <td>0.0</td>\n",
       "      <td>0.0</td>\n",
       "      <td>0.0</td>\n",
       "      <td>0.0</td>\n",
       "      <td>0.0</td>\n",
       "      <td>...</td>\n",
       "      <td>0.0</td>\n",
       "      <td>0.0</td>\n",
       "      <td>0.0</td>\n",
       "      <td>0.0</td>\n",
       "      <td>0.0</td>\n",
       "      <td>0.0</td>\n",
       "      <td>0.0</td>\n",
       "      <td>0.0</td>\n",
       "      <td>0.0</td>\n",
       "      <td>0.0</td>\n",
       "    </tr>\n",
       "    <tr>\n",
       "      <th>2</th>\n",
       "      <td>0.0</td>\n",
       "      <td>0.0</td>\n",
       "      <td>0.0</td>\n",
       "      <td>0.0</td>\n",
       "      <td>0.0</td>\n",
       "      <td>0.0</td>\n",
       "      <td>0.0</td>\n",
       "      <td>0.0</td>\n",
       "      <td>0.0</td>\n",
       "      <td>0.0</td>\n",
       "      <td>...</td>\n",
       "      <td>0.0</td>\n",
       "      <td>0.0</td>\n",
       "      <td>0.0</td>\n",
       "      <td>0.0</td>\n",
       "      <td>0.0</td>\n",
       "      <td>0.0</td>\n",
       "      <td>0.0</td>\n",
       "      <td>0.0</td>\n",
       "      <td>0.0</td>\n",
       "      <td>0.0</td>\n",
       "    </tr>\n",
       "    <tr>\n",
       "      <th>3</th>\n",
       "      <td>0.0</td>\n",
       "      <td>0.0</td>\n",
       "      <td>0.0</td>\n",
       "      <td>0.0</td>\n",
       "      <td>0.0</td>\n",
       "      <td>0.0</td>\n",
       "      <td>0.0</td>\n",
       "      <td>0.0</td>\n",
       "      <td>0.0</td>\n",
       "      <td>0.0</td>\n",
       "      <td>...</td>\n",
       "      <td>0.0</td>\n",
       "      <td>0.0</td>\n",
       "      <td>0.0</td>\n",
       "      <td>0.0</td>\n",
       "      <td>0.0</td>\n",
       "      <td>0.0</td>\n",
       "      <td>0.0</td>\n",
       "      <td>0.0</td>\n",
       "      <td>0.0</td>\n",
       "      <td>0.0</td>\n",
       "    </tr>\n",
       "    <tr>\n",
       "      <th>4</th>\n",
       "      <td>0.0</td>\n",
       "      <td>0.0</td>\n",
       "      <td>0.0</td>\n",
       "      <td>0.0</td>\n",
       "      <td>0.0</td>\n",
       "      <td>0.0</td>\n",
       "      <td>0.0</td>\n",
       "      <td>0.0</td>\n",
       "      <td>0.0</td>\n",
       "      <td>0.0</td>\n",
       "      <td>...</td>\n",
       "      <td>0.0</td>\n",
       "      <td>0.0</td>\n",
       "      <td>0.0</td>\n",
       "      <td>0.0</td>\n",
       "      <td>0.0</td>\n",
       "      <td>0.0</td>\n",
       "      <td>0.0</td>\n",
       "      <td>0.0</td>\n",
       "      <td>0.0</td>\n",
       "      <td>0.0</td>\n",
       "    </tr>\n",
       "  </tbody>\n",
       "</table>\n",
       "<p>5 rows × 73643 columns</p>\n",
       "</div>"
      ],
      "text/plain": [
       "    aa  aaa  aab  aabb  aachen  aad  aadm  aaecc  aaem  aag  ...  zytnicki  \\\n",
       "0  0.0  0.0  0.0   0.0     0.0  0.0   0.0    0.0   0.0  0.0  ...       0.0   \n",
       "1  0.0  0.0  0.0   0.0     0.0  0.0   0.0    0.0   0.0  0.0  ...       0.0   \n",
       "2  0.0  0.0  0.0   0.0     0.0  0.0   0.0    0.0   0.0  0.0  ...       0.0   \n",
       "3  0.0  0.0  0.0   0.0     0.0  0.0   0.0    0.0   0.0  0.0  ...       0.0   \n",
       "4  0.0  0.0  0.0   0.0     0.0  0.0   0.0    0.0   0.0  0.0  ...       0.0   \n",
       "\n",
       "   zyuban  zyvoloski  zyy   zz  zzf  zzi  zzn  zzpe  zzr  \n",
       "0     0.0        0.0  0.0  0.0  0.0  0.0  0.0   0.0  0.0  \n",
       "1     0.0        0.0  0.0  0.0  0.0  0.0  0.0   0.0  0.0  \n",
       "2     0.0        0.0  0.0  0.0  0.0  0.0  0.0   0.0  0.0  \n",
       "3     0.0        0.0  0.0  0.0  0.0  0.0  0.0   0.0  0.0  \n",
       "4     0.0        0.0  0.0  0.0  0.0  0.0  0.0   0.0  0.0  \n",
       "\n",
       "[5 rows x 73643 columns]"
      ]
     },
     "execution_count": 9,
     "metadata": {},
     "output_type": "execute_result"
    }
   ],
   "source": [
    "bow_tfidf_df = pd.DataFrame(bow_tfidf.toarray(), columns=tfidf_vectorizer.get_feature_names())\n",
    "bow_tfidf_df.head()\n",
    "#bow_tfidf_df.loc[bow_tfidf_df['aa'] > 0].head()"
   ]
  },
  {
   "cell_type": "code",
   "execution_count": 10,
   "metadata": {},
   "outputs": [
    {
     "data": {
      "text/html": [
       "<div>\n",
       "<style scoped>\n",
       "    .dataframe tbody tr th:only-of-type {\n",
       "        vertical-align: middle;\n",
       "    }\n",
       "\n",
       "    .dataframe tbody tr th {\n",
       "        vertical-align: top;\n",
       "    }\n",
       "\n",
       "    .dataframe thead th {\n",
       "        text-align: right;\n",
       "    }\n",
       "</style>\n",
       "<table border=\"1\" class=\"dataframe\">\n",
       "  <thead>\n",
       "    <tr style=\"text-align: right;\">\n",
       "      <th></th>\n",
       "      <th>aa</th>\n",
       "      <th>aaa</th>\n",
       "      <th>aab</th>\n",
       "      <th>aabb</th>\n",
       "      <th>aachen</th>\n",
       "      <th>aad</th>\n",
       "      <th>aadm</th>\n",
       "      <th>aaecc</th>\n",
       "      <th>aaem</th>\n",
       "      <th>aag</th>\n",
       "      <th>...</th>\n",
       "      <th>zytnicki</th>\n",
       "      <th>zyuban</th>\n",
       "      <th>zyvoloski</th>\n",
       "      <th>zyy</th>\n",
       "      <th>zz</th>\n",
       "      <th>zzf</th>\n",
       "      <th>zzi</th>\n",
       "      <th>zzn</th>\n",
       "      <th>zzpe</th>\n",
       "      <th>zzr</th>\n",
       "    </tr>\n",
       "  </thead>\n",
       "  <tbody>\n",
       "    <tr>\n",
       "      <th>0</th>\n",
       "      <td>0</td>\n",
       "      <td>0</td>\n",
       "      <td>0</td>\n",
       "      <td>0</td>\n",
       "      <td>0</td>\n",
       "      <td>0</td>\n",
       "      <td>0</td>\n",
       "      <td>0</td>\n",
       "      <td>0</td>\n",
       "      <td>0</td>\n",
       "      <td>...</td>\n",
       "      <td>0</td>\n",
       "      <td>0</td>\n",
       "      <td>0</td>\n",
       "      <td>0</td>\n",
       "      <td>0</td>\n",
       "      <td>0</td>\n",
       "      <td>0</td>\n",
       "      <td>0</td>\n",
       "      <td>0</td>\n",
       "      <td>0</td>\n",
       "    </tr>\n",
       "    <tr>\n",
       "      <th>1</th>\n",
       "      <td>0</td>\n",
       "      <td>0</td>\n",
       "      <td>0</td>\n",
       "      <td>0</td>\n",
       "      <td>0</td>\n",
       "      <td>0</td>\n",
       "      <td>0</td>\n",
       "      <td>0</td>\n",
       "      <td>0</td>\n",
       "      <td>0</td>\n",
       "      <td>...</td>\n",
       "      <td>0</td>\n",
       "      <td>0</td>\n",
       "      <td>0</td>\n",
       "      <td>0</td>\n",
       "      <td>0</td>\n",
       "      <td>0</td>\n",
       "      <td>0</td>\n",
       "      <td>0</td>\n",
       "      <td>0</td>\n",
       "      <td>0</td>\n",
       "    </tr>\n",
       "    <tr>\n",
       "      <th>2</th>\n",
       "      <td>0</td>\n",
       "      <td>0</td>\n",
       "      <td>0</td>\n",
       "      <td>0</td>\n",
       "      <td>0</td>\n",
       "      <td>0</td>\n",
       "      <td>0</td>\n",
       "      <td>0</td>\n",
       "      <td>0</td>\n",
       "      <td>0</td>\n",
       "      <td>...</td>\n",
       "      <td>0</td>\n",
       "      <td>0</td>\n",
       "      <td>0</td>\n",
       "      <td>0</td>\n",
       "      <td>0</td>\n",
       "      <td>0</td>\n",
       "      <td>0</td>\n",
       "      <td>0</td>\n",
       "      <td>0</td>\n",
       "      <td>0</td>\n",
       "    </tr>\n",
       "    <tr>\n",
       "      <th>3</th>\n",
       "      <td>0</td>\n",
       "      <td>0</td>\n",
       "      <td>0</td>\n",
       "      <td>0</td>\n",
       "      <td>0</td>\n",
       "      <td>0</td>\n",
       "      <td>0</td>\n",
       "      <td>0</td>\n",
       "      <td>0</td>\n",
       "      <td>0</td>\n",
       "      <td>...</td>\n",
       "      <td>0</td>\n",
       "      <td>0</td>\n",
       "      <td>0</td>\n",
       "      <td>0</td>\n",
       "      <td>0</td>\n",
       "      <td>0</td>\n",
       "      <td>0</td>\n",
       "      <td>0</td>\n",
       "      <td>0</td>\n",
       "      <td>0</td>\n",
       "    </tr>\n",
       "    <tr>\n",
       "      <th>4</th>\n",
       "      <td>0</td>\n",
       "      <td>0</td>\n",
       "      <td>0</td>\n",
       "      <td>0</td>\n",
       "      <td>0</td>\n",
       "      <td>0</td>\n",
       "      <td>0</td>\n",
       "      <td>0</td>\n",
       "      <td>0</td>\n",
       "      <td>0</td>\n",
       "      <td>...</td>\n",
       "      <td>0</td>\n",
       "      <td>0</td>\n",
       "      <td>0</td>\n",
       "      <td>0</td>\n",
       "      <td>0</td>\n",
       "      <td>0</td>\n",
       "      <td>0</td>\n",
       "      <td>0</td>\n",
       "      <td>0</td>\n",
       "      <td>0</td>\n",
       "    </tr>\n",
       "  </tbody>\n",
       "</table>\n",
       "<p>5 rows × 73643 columns</p>\n",
       "</div>"
      ],
      "text/plain": [
       "   aa  aaa  aab  aabb  aachen  aad  aadm  aaecc  aaem  aag  ...  zytnicki  \\\n",
       "0   0    0    0     0       0    0     0      0     0    0  ...         0   \n",
       "1   0    0    0     0       0    0     0      0     0    0  ...         0   \n",
       "2   0    0    0     0       0    0     0      0     0    0  ...         0   \n",
       "3   0    0    0     0       0    0     0      0     0    0  ...         0   \n",
       "4   0    0    0     0       0    0     0      0     0    0  ...         0   \n",
       "\n",
       "   zyuban  zyvoloski  zyy  zz  zzf  zzi  zzn  zzpe  zzr  \n",
       "0       0          0    0   0    0    0    0     0    0  \n",
       "1       0          0    0   0    0    0    0     0    0  \n",
       "2       0          0    0   0    0    0    0     0    0  \n",
       "3       0          0    0   0    0    0    0     0    0  \n",
       "4       0          0    0   0    0    0    0     0    0  \n",
       "\n",
       "[5 rows x 73643 columns]"
      ]
     },
     "execution_count": 10,
     "metadata": {},
     "output_type": "execute_result"
    }
   ],
   "source": [
    "bow_tf_df = pd.DataFrame(bow_tf.toarray(), columns=count_vectorizer.get_feature_names())\n",
    "bow_tf_df.head()\n",
    "#bow_tf_df.loc[bow_tf_df['aa'] > 0].head()"
   ]
  },
  {
   "cell_type": "markdown",
   "metadata": {},
   "source": [
    "### Inverted Index\n",
    "Es la estructura de datos más utilizada para la búsqueda en los sistemas de búsqueda y recuperación de información.\n",
    "Para la construcción de esta estructura de datos utilizamos los diccionarios de python para realizar una indexación por palabra y adicionar una lista de tuplas, donde cada una tiene la información del documento, el tfidf de la palabra, el tf y el tamaño en palabras del bag of words para el documento.\n",
    "\n",
    "##### Ejemplo:\n",
    "\n",
    "| word        | doc     | tfidf           | tf      | doc_length    |\n",
    "|-------------|---------|-----------------|---------|---------------|\n",
    "| biology     | [1,2,7] | [0.01,0.04,0.1] | [3,4,2] | [340,600,428] |\n",
    "| computer    | [2,3]   | [0.023,0.012]   | [5,18]  | [250,1118]    |\n",
    "| mathematics | [1]     | [0.1]           | [8]     | [128]         |"
   ]
  },
  {
   "cell_type": "code",
   "execution_count": 11,
   "metadata": {},
   "outputs": [],
   "source": [
    "documentos_length = [sum(words) for words in bow_tf.toarray()]"
   ]
  },
  {
   "cell_type": "code",
   "execution_count": 12,
   "metadata": {},
   "outputs": [],
   "source": [
    "inverted_index = {}\n",
    "for word in bow_tfidf_df.columns:\n",
    "    inverted_index[word] = []\n",
    "    for row in bow_tf_df.loc[bow_tf_df[word] > 0].index:\n",
    "        doc = documentos[row]\n",
    "        tf = bow_tf_df[word][row]\n",
    "        tfidf = bow_tfidf_df[word][row]\n",
    "        doc_length = documentos_length[row]\n",
    "        inverted_index[word].append( (doc, tfidf, tf, doc_length) )"
   ]
  },
  {
   "cell_type": "markdown",
   "metadata": {},
   "source": [
    "### Query\n",
    "Para realizar la búsqueda realizamos tres aproximaciones, ya que queríamos ir comparando los resultados poco a poco con el experto que utilizamos metapy, que es una librería en python utilizada para el procesamiento de texto.\n",
    "\n",
    "Utilizamos el Okapi BM25 que es una función de ranking que nos permite calificar las búsquedas para la Recuperación de información y asignar la relevancia a cada uno de los documentos en un buscador que tiene las palabras que el usuario desea buscar.\n",
    "\n",
    "\n",
    "$score(D,Q) = \\sum_{i=1}^{n}IDF(q_{i}) * \\frac{f(q_{i}, D) * (k_{1} + 1)}{f(q_{i}, D) + k_{1} * (1-b+b*\\frac{|D|}{avgdl})} $\n",
    "\n",
    "$k_{1}=1.2, b=0.75$"
   ]
  },
  {
   "cell_type": "code",
   "execution_count": null,
   "metadata": {},
   "outputs": [],
   "source": [
    "def query_inverted_text(term):\n",
    "    resultado = []\n",
    "    for doc, tfidf, tf, doc_length in inverted_index[term]:\n",
    "        resultado.append(doc)\n",
    "    return resultado\n",
    "len(query_inverted_text('biolog'))\n",
    "#inverted_index['characterist']"
   ]
  },
  {
   "cell_type": "code",
   "execution_count": null,
   "metadata": {},
   "outputs": [],
   "source": [
    "def query_inverted_text(terms=[]):\n",
    "    resultado = {}\n",
    "    for term in terms:\n",
    "        if term in inverted_index:\n",
    "            for doc, tfidf, tf, doc_length  in inverted_index[term]:\n",
    "                if doc in resultado:\n",
    "                    resultado[doc] += tfidf\n",
    "                else:\n",
    "                    resultado[doc] = tfidf\n",
    "    return resultado\n",
    "query = query_inverted_text(['biolog'])\n",
    "sorted_x = sorted(query.items(), key=operator.itemgetter(1), reverse=True)[:10]\n",
    "sorted_x\n",
    "#inverted_index['characterist']"
   ]
  },
  {
   "cell_type": "code",
   "execution_count": 13,
   "metadata": {},
   "outputs": [
    {
     "data": {
      "text/plain": [
       "[('/opt/datasets/mcda-pi1-20191/papers-txt/1505.02348.txt', 3.744471187171522),\n",
       " ('/opt/datasets/mcda-pi1-20191/papers-txt/1506.00366.txt',\n",
       "  3.7355254483852254),\n",
       " ('/opt/datasets/mcda-pi1-20191/papers-txt/1503.07759.txt', 3.720408535682087),\n",
       " ('/opt/datasets/mcda-pi1-20191/papers-txt/1412.0291.txt', 3.680808436299234),\n",
       " ('/opt/datasets/mcda-pi1-20191/papers-txt/1510.06482.txt',\n",
       "  3.6630851349166123),\n",
       " ('/opt/datasets/mcda-pi1-20191/papers-txt/1505.05193.txt', 3.647304683707178),\n",
       " ('/opt/datasets/mcda-pi1-20191/papers-txt/1504.06320.txt',\n",
       "  3.5888082306740707),\n",
       " ('/opt/datasets/mcda-pi1-20191/papers-txt/1403.1080.txt', 3.540846238050834),\n",
       " ('/opt/datasets/mcda-pi1-20191/papers-txt/1210.2246.txt', 3.5199305499862357),\n",
       " ('/opt/datasets/mcda-pi1-20191/papers-txt/1501.04836.txt', 3.513527783313384)]"
      ]
     },
     "execution_count": 13,
     "metadata": {},
     "output_type": "execute_result"
    }
   ],
   "source": [
    "def query_inverted_text_bm25(query, k1=1.2, b=0.75):\n",
    "    resultado = {}\n",
    "    query_tokens = tokenizer(query)\n",
    "    query_tokens = limpiar_tokens(query_tokens)\n",
    "    avgdl = np.mean(documentos_length)\n",
    "    for term in query_tokens:\n",
    "        doc_query_conriene = len(inverted_index[term])\n",
    "        query_idf = np.log((len(documentos_length) - doc_query_conriene + 0.5) / (doc_query_conriene + 0.5))\n",
    "        for doc, tfidf, tf, doc_length  in inverted_index[term]:\n",
    "            upper = tf *  (k1 + 1)\n",
    "            below = tf + k1*(1 - b + (b * (doc_length / avgdl)))\n",
    "            if doc in resultado:\n",
    "                resultado[doc] += query_idf * (upper / below)\n",
    "            else:\n",
    "                resultado[doc] = query_idf * (upper / below)\n",
    "    return resultado\n",
    "query = query_inverted_text_bm25(\"biology\")\n",
    "sorted_x = sorted(query.items(), key=operator.itemgetter(1), reverse=True)[:10]\n",
    "sorted_x"
   ]
  },
  {
   "cell_type": "markdown",
   "metadata": {},
   "source": [
    "## MeTa\n",
    "Utilizaremos una librería de Python con herramienta para procesar texto y la utilizaremos para construir un índice invertido y generar un ranker que nos ayude a comparar los documentos recuperados por nuestra consulta"
   ]
  },
  {
   "cell_type": "code",
   "execution_count": 14,
   "metadata": {},
   "outputs": [],
   "source": [
    "import metapy"
   ]
  },
  {
   "cell_type": "code",
   "execution_count": 15,
   "metadata": {},
   "outputs": [],
   "source": [
    "inv_idx = metapy.index.make_inverted_index(\"config.toml\")"
   ]
  },
  {
   "cell_type": "code",
   "execution_count": 16,
   "metadata": {},
   "outputs": [
    {
     "data": {
      "text/plain": [
       "980"
      ]
     },
     "execution_count": 16,
     "metadata": {},
     "output_type": "execute_result"
    }
   ],
   "source": [
    "inv_idx.num_docs()"
   ]
  },
  {
   "cell_type": "code",
   "execution_count": 17,
   "metadata": {},
   "outputs": [],
   "source": [
    "ranker = metapy.index.OkapiBM25()"
   ]
  },
  {
   "cell_type": "code",
   "execution_count": 18,
   "metadata": {},
   "outputs": [],
   "source": [
    "query_meta = metapy.index.Document()\n",
    "query_meta.content(\"statistics\")"
   ]
  },
  {
   "cell_type": "code",
   "execution_count": 19,
   "metadata": {},
   "outputs": [],
   "source": [
    "top_docs = ranker.score(inv_idx, query_meta, num_results=10)"
   ]
  },
  {
   "cell_type": "code",
   "execution_count": 20,
   "metadata": {},
   "outputs": [
    {
     "data": {
      "text/plain": [
       "[(736, 1.7807728052139282),\n",
       " (658, 1.7700905799865723),\n",
       " (399, 1.7677022218704224),\n",
       " (16, 1.7660155296325684),\n",
       " (827, 1.7563282251358032),\n",
       " (677, 1.752448320388794),\n",
       " (805, 1.7521823644638062),\n",
       " (657, 1.7474273443222046),\n",
       " (34, 1.7392793893814087),\n",
       " (366, 1.7389888763427734)]"
      ]
     },
     "execution_count": 20,
     "metadata": {},
     "output_type": "execute_result"
    }
   ],
   "source": [
    "top_docs"
   ]
  },
  {
   "cell_type": "code",
   "execution_count": 21,
   "metadata": {},
   "outputs": [
    {
     "data": {
      "text/plain": [
       "[('../data/papers_own_impl/1507.01279.txt', 1.7807728052139282),\n",
       " ('../data/papers_own_impl/1505.02214.txt', 1.7700905799865723),\n",
       " ('../data/papers_own_impl/1407.4908.txt', 1.7677022218704224),\n",
       " ('../data/papers_own_impl/0910.2912.txt', 1.7660155296325684),\n",
       " ('../data/papers_own_impl/1509.02900.txt', 1.7563282251358032),\n",
       " ('../data/papers_own_impl/1505.06770.txt', 1.752448320388794),\n",
       " ('../data/papers_own_impl/1508.04720.txt', 1.7521823644638062),\n",
       " ('../data/papers_own_impl/1505.02213.txt', 1.7474273443222046),\n",
       " ('../data/papers_own_impl/1006.1029.txt', 1.7392793893814087),\n",
       " ('../data/papers_own_impl/1405.4472.txt', 1.7389888763427734)]"
      ]
     },
     "execution_count": 21,
     "metadata": {},
     "output_type": "execute_result"
    }
   ],
   "source": [
    "def meta_top_docs(top_docs):\n",
    "    person = []\n",
    "    for num, (d_id, d) in enumerate(top_docs):   \n",
    "        val_1 = inv_idx.label(d_id)\n",
    "        person.append((val_1, d))\n",
    "    return person\n",
    "person = meta_top_docs(top_docs)\n",
    "person"
   ]
  },
  {
   "cell_type": "code",
   "execution_count": 22,
   "metadata": {},
   "outputs": [
    {
     "data": {
      "text/plain": [
       "[('/opt/datasets/mcda-pi1-20191/papers-txt/1507.01279.txt',\n",
       "  0.09782387519148865),\n",
       " ('/opt/datasets/mcda-pi1-20191/papers-txt/1407.4908.txt', 0.0974375625435099),\n",
       " ('/opt/datasets/mcda-pi1-20191/papers-txt/1505.02214.txt',\n",
       "  0.09741277700025769),\n",
       " ('/opt/datasets/mcda-pi1-20191/papers-txt/0910.2912.txt',\n",
       "  0.09725138772550106),\n",
       " ('/opt/datasets/mcda-pi1-20191/papers-txt/1311.4821.txt',\n",
       "  0.09702587201272124),\n",
       " ('/opt/datasets/mcda-pi1-20191/papers-txt/1508.04720.txt',\n",
       "  0.09693081884785062),\n",
       " ('/opt/datasets/mcda-pi1-20191/papers-txt/1109.2984.txt',\n",
       "  0.09686385499157207),\n",
       " ('/opt/datasets/mcda-pi1-20191/papers-txt/1505.02213.txt',\n",
       "  0.09680243646974188),\n",
       " ('/opt/datasets/mcda-pi1-20191/papers-txt/1509.02900.txt',\n",
       "  0.09675558129329453),\n",
       " ('/opt/datasets/mcda-pi1-20191/papers-txt/1505.06770.txt',\n",
       "  0.09626907788759705)]"
      ]
     },
     "execution_count": 22,
     "metadata": {},
     "output_type": "execute_result"
    }
   ],
   "source": [
    "query2 = query_inverted_text_bm25(\"statistics\")\n",
    "sorted_x = sorted(query2.items(), key=operator.itemgetter(1), reverse=True)[:10]\n",
    "sorted_x"
   ]
  },
  {
   "cell_type": "code",
   "execution_count": 23,
   "metadata": {},
   "outputs": [],
   "source": [
    "#person[0][0].split(\"/\")[-1]\n",
    "y_true = [i[0].split('/')[-1] for i in person]\n",
    "y_pred = [j[0].split('/')[-1] for j in sorted_x]"
   ]
  },
  {
   "cell_type": "code",
   "execution_count": 24,
   "metadata": {},
   "outputs": [
    {
     "data": {
      "text/plain": [
       "array([[1, 0, 0, 0, 0, 0, 0, 0, 0, 0, 0, 0],\n",
       "       [0, 0, 0, 0, 0, 0, 0, 0, 0, 0, 0, 1],\n",
       "       [0, 0, 0, 0, 0, 0, 0, 0, 0, 0, 0, 0],\n",
       "       [0, 0, 0, 0, 0, 0, 0, 0, 0, 0, 0, 0],\n",
       "       [0, 0, 0, 0, 0, 0, 0, 0, 1, 0, 0, 0],\n",
       "       [0, 0, 0, 0, 0, 0, 0, 1, 0, 0, 0, 0],\n",
       "       [0, 0, 0, 0, 0, 0, 1, 0, 0, 0, 0, 0],\n",
       "       [0, 0, 0, 0, 0, 1, 0, 0, 0, 0, 0, 0],\n",
       "       [0, 0, 0, 0, 0, 0, 0, 0, 0, 0, 1, 0],\n",
       "       [0, 0, 0, 0, 0, 0, 0, 0, 0, 1, 0, 0],\n",
       "       [0, 0, 1, 0, 0, 0, 0, 0, 0, 0, 0, 0],\n",
       "       [0, 0, 0, 1, 0, 0, 0, 0, 0, 0, 0, 0]])"
      ]
     },
     "execution_count": 24,
     "metadata": {},
     "output_type": "execute_result"
    }
   ],
   "source": [
    "from sklearn.metrics import confusion_matrix\n",
    "\n",
    "# matriz de confusion multiclase\n",
    "confusion_matrix(y_true, y_pred)"
   ]
  },
  {
   "cell_type": "code",
   "execution_count": 25,
   "metadata": {},
   "outputs": [
    {
     "name": "stdout",
     "output_type": "stream",
     "text": [
      "[1, 1, 1, 1, 1, 1, 1, 1, 1, 1]\n",
      "------------\n",
      "[1, 1, 1, 1, 0, 1, 0, 1, 1, 1]\n"
     ]
    }
   ],
   "source": [
    "y_trueb = [1 if x in y_true else 0 for x in y_true]\n",
    "print(y_trueb)\n",
    "print('------------')\n",
    "y_predb = [1 if x in y_true else 0 for x in y_pred]\n",
    "print(y_predb)"
   ]
  },
  {
   "cell_type": "code",
   "execution_count": 26,
   "metadata": {},
   "outputs": [
    {
     "data": {
      "text/plain": [
       "array([0, 0, 2, 8])"
      ]
     },
     "execution_count": 26,
     "metadata": {},
     "output_type": "execute_result"
    }
   ],
   "source": [
    "confusion_matrix(y_true=y_trueb, y_pred=y_predb).ravel()"
   ]
  },
  {
   "cell_type": "code",
   "execution_count": 27,
   "metadata": {},
   "outputs": [
    {
     "data": {
      "text/plain": [
       "(0, 0, 2, 8)"
      ]
     },
     "execution_count": 27,
     "metadata": {},
     "output_type": "execute_result"
    }
   ],
   "source": [
    "tn, fp, fn, tp = confusion_matrix(y_true=y_trueb, y_pred=y_predb).ravel()\n",
    "(tn, fp, fn, tp)"
   ]
  },
  {
   "cell_type": "code",
   "execution_count": 28,
   "metadata": {},
   "outputs": [
    {
     "data": {
      "text/plain": [
       "(0.0, 1.0)"
      ]
     },
     "execution_count": 28,
     "metadata": {},
     "output_type": "execute_result"
    },
    {
     "data": {
      "image/png": "[encoded data removed]",
      "text/plain": [
       "<Figure size 432x288 with 1 Axes>"
      ]
     },
     "metadata": {
      "needs_background": "light"
     },
     "output_type": "display_data"
    }
   ],
   "source": [
    "from sklearn.metrics import precision_recall_curve\n",
    "import matplotlib.pyplot as plt\n",
    "from inspect import signature\n",
    "\n",
    "precision, recall, _ = precision_recall_curve(y_trueb, y_predb)\n",
    "\n",
    "# In matplotlib < 1.5, plt.fill_between does not have a 'step' argument\n",
    "step_kwargs = ({'step': 'post'}\n",
    "               if 'step' in signature(plt.fill_between).parameters\n",
    "               else {})\n",
    "plt.step(recall, precision, color='b', alpha=0.2,\n",
    "         where='post')\n",
    "plt.fill_between(recall, precision, alpha=0.2, color='b', **step_kwargs)\n",
    "\n",
    "plt.xlabel('Recall')\n",
    "plt.ylabel('Precision')\n",
    "plt.ylim([0.0, 1.05])\n",
    "plt.xlim([0.0, 1.0])"
   ]
  },
  {
   "cell_type": "code",
   "execution_count": 29,
   "metadata": {},
   "outputs": [
    {
     "name": "stdout",
     "output_type": "stream",
     "text": [
      "Precision  1.0\n",
      "--------------------\n",
      "Recall  0.8\n"
     ]
    }
   ],
   "source": [
    "p = tp/(tp+fp)\n",
    "print('Precision ',round(p,2))\n",
    "print('--------------------')\n",
    "r = tp/(tp+fn)\n",
    "print('Recall ',round(r,2))"
   ]
  },
  {
   "cell_type": "code",
   "execution_count": 30,
   "metadata": {},
   "outputs": [
    {
     "name": "stderr",
     "output_type": "stream",
     "text": [
      "/opt/anaconda3/lib/python3.6/site-packages/ipykernel_launcher.py:32: RuntimeWarning: invalid value encountered in long_scalars\n"
     ]
    },
    {
     "data": {
      "text/plain": [
       "{'biology': (1.0, 1.0),\n",
       " 'activity': (1.0, 0.8),\n",
       " 'machine learning': (1.0, 0.8),\n",
       " 'machine': (1.0, 1.0),\n",
       " 'math': (1.0, 0.7),\n",
       " 'magazine': (1.0, 0.9),\n",
       " 'mahalanobis distance': (1.0, 1.0),\n",
       " 'kruskal algorithm': (1.0, 0.8),\n",
       " 'mathematician': (1.0, 0.9),\n",
       " 'norm': (1.0, 0.8),\n",
       " 'matrix norm': (1.0, 0.3),\n",
       " 'sparse': (1.0, 0.9),\n",
       " 'stochastic': (1.0, 0.9),\n",
       " 'news': (1.0, 0.7),\n",
       " 'random forest': (1.0, 0.1),\n",
       " 'logistic regression': (1.0, 0.9),\n",
       " 'statistics': (1.0, 0.8),\n",
       " 'root': (1.0, 1.0),\n",
       " 'python': (1.0, 1.0),\n",
       " 'inverse matrix': (1.0, 0.3),\n",
       " 'clustering': (1.0, 0.9),\n",
       " 'michael jordan': (1.0, 0.8),\n",
       " 'Carl Friedrich Gauss': (1.0, 0.8),\n",
       " 'europe': (1.0, 0.9),\n",
       " 'rank': (1.0, 0.9),\n",
       " 'Algebra': (1.0, 0.9),\n",
       " 'quick sort': (1.0, 0.5),\n",
       " 'education': (1.0, 0.9),\n",
       " 'Chinese rice': (1.0, 0.7),\n",
       " 'security': (1.0, 1.0),\n",
       " 'cryptography and network security': (1.0, 0.7),\n",
       " 'bank': (1.0, 0.9),\n",
       " 'radiology': (1.0, 1.0),\n",
       " 'google': (1.0, 0.9),\n",
       " 'page ranker': (1.0, 0.3),\n",
       " 'twitter': (1.0, 0.9),\n",
       " 'facebook': (1.0, 0.8),\n",
       " 'germany': (1.0, 0.7),\n",
       " 'colombia': (1.0, 0.83),\n",
       " 'linux': (1.0, 0.8),\n",
       " 'text': (1.0, 0.9),\n",
       " 'text mining': (1.0, 0.9),\n",
       " 'wikipedia': (1.0, 1.0),\n",
       " 'population': (1.0, 0.9),\n",
       " 'city': (1.0, 1.0),\n",
       " 'country': (1.0, 0.9),\n",
       " 'master and slave': (1.0, 0.8),\n",
       " 'Polynomial': (1.0, 0.9),\n",
       " 'Isaac Newton': (1.0, 0.8),\n",
       " 'ibm': (1.0, 0.8),\n",
       " 'red hat': (1.0, 0.8),\n",
       " 'Structured Query Language': (nan, 0.0),\n",
       " 'programming language sql': (1.0, 0.9),\n",
       " 'software': (1.0, 1.0),\n",
       " 'filesystem': (1.0, 1.0),\n",
       " 'albert einstein': (1.0, 0.9),\n",
       " 'android': (1.0, 1.0),\n",
       " 'gpu': (1.0, 1.0),\n",
       " 'cpu': (1.0, 0.8),\n",
       " 'keyboard': (1.0, 1.0),\n",
       " 'hardware': (1.0, 0.9),\n",
       " 'internet': (1.0, 0.9),\n",
       " 'intel': (1.0, 1.0),\n",
       " 'aws emr': (1.0, 0.9),\n",
       " 'magic spell': (1.0, 0.9),\n",
       " 'genetic algorithm': (1.0, 0.4),\n",
       " 'valuable gem': (1.0, 1.0),\n",
       " 'general electric': (1.0, 0.2),\n",
       " 'world clock': (1.0, 0.9),\n",
       " 'neural networks': (1.0, 0.7),\n",
       " 'big data': (nan, 0.0),\n",
       " 'bytes': (1.0, 1.0),\n",
       " 'tv': (1.0, 0.4),\n",
       " 'business analytics': (1.0, 1.0),\n",
       " 'mental disease': (1.0, 1.0),\n",
       " 'black market': (1.0, 0.8),\n",
       " 'integrator project': (1.0, 0.3),\n",
       " 'likelihood': (1.0, 0.9),\n",
       " 'text volume': (1.0, 0.7),\n",
       " 'amazon': (1.0, 0.8),\n",
       " 'Soft Condensed Matter': (1.0, 0.9),\n",
       " 'Software Engineering': (1.0, 0.8),\n",
       " 'Sound': (1.0, 1.0),\n",
       " 'Spectral Theory': (nan, 0.0),\n",
       " 'Statistical Finance': (1.0, 0.8),\n",
       " 'Statistical Mechanics': (1.0, 0.7)}"
      ]
     },
     "execution_count": 30,
     "metadata": {},
     "output_type": "execute_result"
    }
   ],
   "source": [
    "def truncate_round(n):\n",
    "    if np.isnan(n):\n",
    "        return np.nan\n",
    "    return int(n * 100) / 100\n",
    "\n",
    "def calificar_query(querys):\n",
    "    ranker = metapy.index.OkapiBM25()\n",
    "    resultado = {}\n",
    "    for query in querys:\n",
    "        query_meta = metapy.index.Document()\n",
    "        query_meta.content(query)\n",
    "        top_docs = ranker.score(inv_idx, query_meta, num_results=10)\n",
    "        expert = meta_top_docs(top_docs)\n",
    "        len_expert = len(expert)\n",
    "        \n",
    "        buscador = query_inverted_text_bm25(query)\n",
    "        buscador = sorted(buscador.items(), key=operator.itemgetter(1), reverse=True)[:len_expert]\n",
    "        \n",
    "        #buscador += [0 for i in range(len(expert) - len(buscador))]\n",
    "        y_true = [i[0].split('/')[-1] for i in expert]\n",
    "        y_pred = [j[0].split('/')[-1] for j in buscador]\n",
    "        #boolean form of y_true and y_pred\n",
    "        y_trueb = [1 if x in y_true else 0 for x in y_true]\n",
    "        y_predb = [1 if x in y_true else 0 for x in y_pred]\n",
    "        \n",
    "        conf_matrix = confusion_matrix(y_trueb, y_predb).ravel()\n",
    "        if len(conf_matrix) > 1:\n",
    "            tn, fp, fn, tp = conf_matrix\n",
    "        else:\n",
    "            tn, fp, fn = 0,0,0\n",
    "            tp = conf_matrix[0]\n",
    "        p = tp/(tp+fp) #print('Precision ',round(p,2))\n",
    "        r = tp/(tp+fn) #print('Recall ',round(r,2))\n",
    "        resultado[query] = (truncate_round(p), truncate_round(r))\n",
    "    return resultado\n",
    "resultado_compare = calificar_query([\"biology\", \"activity\", \"machine learning\",\n",
    "                 \"machine\", \"math\", \"magazine\", \"mahalanobis distance\",\n",
    "                 \"kruskal algorithm\", \"mathematician\", \"norm\", \"matrix norm\",\n",
    "                 \"sparse\", \"stochastic\", \"news\", \"random forest\", \"logistic regression\", \"statistics\",\n",
    "                 \"root\", \"python\", \"inverse matrix\", \"clustering\", \"michael jordan\", \"Carl Friedrich Gauss\",\n",
    "                 \"europe\", \"rank\",\"Algebra\", \"quick sort\", \"education\", \n",
    "                 \"Chinese rice\",\"security\",\"cryptography and network security\", \"bank\", \"radiology\",\n",
    "                 \"google\", \"page ranker\", \"twitter\", \"facebook\",\"germany\", \"colombia\", \"linux\", \"text\",\n",
    "                 \"text mining\", \"wikipedia\", \"population\", \"city\", \"country\", \"master and slave\",\n",
    "                 \"Polynomial\", \"Isaac Newton\", \"ibm\", \"red hat\", \"Structured Query Language\", \n",
    "                 \"programming language sql\", \"software\", \"filesystem\", \"albert einstein\", \"android\",\n",
    "                 \"gpu\", \"cpu\", \"keyboard\", \"hardware\", \"internet\", \"intel\",\"aws emr\", \"magic spell\", \n",
    "                 \"genetic algorithm\", \"valuable gem\",\"general electric\",\"world clock\",\"neural networks\",\n",
    "                 \"big data\", \"bytes\",\"tv\",\"business analytics\",\"mental disease\", \"black market\", \"integrator project\",\n",
    "                 \"likelihood\", \"text volume\", \"amazon\", \"Soft Condensed Matter\", \"Software Engineering\", \"Sound\", \n",
    "                 \"Spectral Theory\", \"Statistical Finance\", \"Statistical Mechanics\"])\n",
    "resultado_compare"
   ]
  },
  {
   "cell_type": "code",
   "execution_count": 31,
   "metadata": {},
   "outputs": [],
   "source": [
    "#print(count_vectorizer.get_feature_names())"
   ]
  },
  {
   "cell_type": "code",
   "execution_count": 32,
   "metadata": {},
   "outputs": [],
   "source": [
    "querys_result = []\n",
    "values_result = []\n",
    "for key, values in resultado_compare.items():\n",
    "    querys_result.append(key)\n",
    "    values_result.append(values[1])"
   ]
  },
  {
   "cell_type": "code",
   "execution_count": 33,
   "metadata": {},
   "outputs": [
    {
     "data": {
      "text/plain": [
       "<matplotlib.axes._subplots.AxesSubplot at 0x7f5827f3e400>"
      ]
     },
     "execution_count": 33,
     "metadata": {},
     "output_type": "execute_result"
    },
    {
     "data": {
      "image/png": "[encoded data removed]",
      "text/plain": [
       "<Figure size 432x288 with 1 Axes>"
      ]
     },
     "metadata": {
      "needs_background": "light"
     },
     "output_type": "display_data"
    }
   ],
   "source": [
    "import seaborn as sns\n",
    "\n",
    "sns.distplot(values_result)"
   ]
  },
  {
   "cell_type": "code",
   "execution_count": 34,
   "metadata": {},
   "outputs": [
    {
     "data": {
      "text/plain": [
       "0.7"
      ]
     },
     "execution_count": 34,
     "metadata": {},
     "output_type": "execute_result"
    }
   ],
   "source": [
    "np.percentile(values_result, 20)"
   ]
  },
  {
   "cell_type": "markdown",
   "metadata": {},
   "source": [
    "# Procesamiento de Metadatos"
   ]
  },
  {
   "cell_type": "code",
   "execution_count": 35,
   "metadata": {},
   "outputs": [],
   "source": [
    "meta_datos = open(\"xml_parser/metadata_dict.txt\",\"r\",encoding='utf-8').read()\n",
    "meta_datos = json.loads(meta_datos)"
   ]
  },
  {
   "cell_type": "code",
   "execution_count": 36,
   "metadata": {},
   "outputs": [
    {
     "data": {
      "text/plain": [
       "\"Smooth R\\\\'enyi Entropy of Ergodic Quantum Information Sources,We prove that the average smooth Renyi entropy rate will approach the entropy\\nrate of a stationary, ergodic information source, which is equal to the Shannon\\nentropy rate for a classical information source and the von Neumann entropy\\nrate for a quantum information source. Comment: 5 pages, no figures, ISIT 2007\""
      ]
     },
     "execution_count": 36,
     "metadata": {},
     "output_type": "execute_result"
    }
   ],
   "source": [
    "meta_datos['0704.3504']"
   ]
  },
  {
   "cell_type": "code",
   "execution_count": 41,
   "metadata": {},
   "outputs": [
    {
     "data": {
      "text/plain": [
       "321"
      ]
     },
     "execution_count": 41,
     "metadata": {},
     "output_type": "execute_result"
    }
   ],
   "source": [
    "documentos.index('/opt/datasets/mcda-pi1-20191/papers-txt/0704.3504.txt')"
   ]
  },
  {
   "cell_type": "code",
   "execution_count": 37,
   "metadata": {},
   "outputs": [],
   "source": [
    "documentos_meta_datos = list()\n",
    "for file in files_txt:\n",
    "    #Leer Informacion\n",
    "    meta_datos_info = meta_datos[file.replace(\"\\\\\",\"/\").split(\"/\")[-1].replace(\".txt\",\"\")]\n",
    "    \n",
    "    #tokenizacion\n",
    "    tokens_meta_datos = tokenizer(meta_datos_info)\n",
    "    \n",
    "    # aplica lematizacion, stemming, elimina de stop words y aplica reglas lógicas para reducir la cantidad de tokens\n",
    "    tokens_meta_datos = limpiar_tokens(tokens_meta_datos, is_metadata = True)\n",
    "    documentos_meta_datos.append(' '.join(tokens_meta_datos))"
   ]
  },
  {
   "cell_type": "code",
   "execution_count": 38,
   "metadata": {},
   "outputs": [],
   "source": [
    "df_metadatos = pd.DataFrame(documentos_meta_datos,columns=['content'])"
   ]
  },
  {
   "cell_type": "code",
   "execution_count": 39,
   "metadata": {},
   "outputs": [
    {
     "data": {
      "text/html": [
       "<div>\n",
       "<style scoped>\n",
       "    .dataframe tbody tr th:only-of-type {\n",
       "        vertical-align: middle;\n",
       "    }\n",
       "\n",
       "    .dataframe tbody tr th {\n",
       "        vertical-align: top;\n",
       "    }\n",
       "\n",
       "    .dataframe thead th {\n",
       "        text-align: right;\n",
       "    }\n",
       "</style>\n",
       "<table border=\"1\" class=\"dataframe\">\n",
       "  <thead>\n",
       "    <tr style=\"text-align: right;\">\n",
       "      <th></th>\n",
       "      <th>content</th>\n",
       "    </tr>\n",
       "  </thead>\n",
       "  <tbody>\n",
       "    <tr>\n",
       "      <th>0</th>\n",
       "      <td>birdnest bayesian infer rate fraud detect revi...</td>\n",
       "    </tr>\n",
       "    <tr>\n",
       "      <th>1</th>\n",
       "      <td>salient object detect benchmark</td>\n",
       "    </tr>\n",
       "    <tr>\n",
       "      <th>2</th>\n",
       "      <td>convex recoveri interferometr measur</td>\n",
       "    </tr>\n",
       "    <tr>\n",
       "      <th>3</th>\n",
       "      <td>almost settl hard noncommut determin paper stu...</td>\n",
       "    </tr>\n",
       "    <tr>\n",
       "      <th>4</th>\n",
       "      <td>simpl algorithm comput bocp articl devis conci...</td>\n",
       "    </tr>\n",
       "  </tbody>\n",
       "</table>\n",
       "</div>"
      ],
      "text/plain": [
       "                                             content\n",
       "0  birdnest bayesian infer rate fraud detect revi...\n",
       "1                    salient object detect benchmark\n",
       "2               convex recoveri interferometr measur\n",
       "3  almost settl hard noncommut determin paper stu...\n",
       "4  simpl algorithm comput bocp articl devis conci..."
      ]
     },
     "execution_count": 39,
     "metadata": {},
     "output_type": "execute_result"
    }
   ],
   "source": [
    "df_metadatos.head()"
   ]
  },
  {
   "cell_type": "code",
   "execution_count": 44,
   "metadata": {},
   "outputs": [],
   "source": [
    "df_metadatos.to_csv(\"data/metadatos.csv\",sep=';',index=False )"
   ]
  },
  {
   "cell_type": "code",
   "execution_count": 45,
   "metadata": {},
   "outputs": [],
   "source": [
    "import pyspark\n",
    "from pyspark import SparkContext, SparkConf\n",
    "from pyspark.sql import SparkSession\n",
    "import os\n",
    "# make sure pyspark tells workers to use python3 not 2 if both are installed\n",
    "os.environ['PYSPARK_PYTHON'] = '/opt/anaconda3/bin/python3'\n",
    "os.environ['PYSPARK_DRIVER_PYTHON'] = '/opt/anaconda3/bin/ipython'\n",
    "conf = pyspark.SparkConf().setAppName('appName').setMaster('local')\n",
    "sc = pyspark.SparkContext(conf=conf)\n",
    "spark = SparkSession(sc)"
   ]
  },
  {
   "cell_type": "code",
   "execution_count": 46,
   "metadata": {},
   "outputs": [
    {
     "data": {
      "text/html": [
       "\n",
       "            <div>\n",
       "                <p><b>SparkSession - in-memory</b></p>\n",
       "                \n",
       "        <div>\n",
       "            <p><b>SparkContext</b></p>\n",
       "\n",
       "            <p><a href=\"http://hpcdis.dis.eafit.edu.co:4046\">Spark UI</a></p>\n",
       "\n",
       "            <dl>\n",
       "              <dt>Version</dt>\n",
       "                <dd><code>v2.4.3</code></dd>\n",
       "              <dt>Master</dt>\n",
       "                <dd><code>local</code></dd>\n",
       "              <dt>AppName</dt>\n",
       "                <dd><code>appName</code></dd>\n",
       "            </dl>\n",
       "        </div>\n",
       "        \n",
       "            </div>\n",
       "        "
      ],
      "text/plain": [
       "<pyspark.sql.session.SparkSession at 0x7f5827b0b6d8>"
      ]
     },
     "execution_count": 46,
     "metadata": {},
     "output_type": "execute_result"
    }
   ],
   "source": [
    "spark"
   ]
  },
  {
   "cell_type": "code",
   "execution_count": 47,
   "metadata": {},
   "outputs": [],
   "source": [
    "import pyspark\n",
    "from pyspark.sql import SQLContext\n",
    "from pyspark.mllib.linalg import Vector, Vectors\n",
    "from pyspark.mllib.clustering import LDA, LDAModel\n",
    "from pyspark.ml.feature import HashingTF, IDF, Tokenizer, CountVectorizer\n",
    "from pyspark.sql.types import *\n",
    "from pyspark.sql.functions import *\n",
    "from pyspark.ml.linalg import Vectors, SparseVector\n",
    "from pyspark.ml.clustering import LDA, BisectingKMeans\n",
    "from pyspark.sql.functions import monotonically_increasing_id\n",
    "import re\n",
    "from pyspark.context import SparkContext\n",
    "from pyspark.sql.session import SparkSession\n",
    "\n",
    "from pyspark.sql.types import StringType\n"
   ]
  },
  {
   "cell_type": "code",
   "execution_count": 48,
   "metadata": {},
   "outputs": [],
   "source": [
    "dfs_meta_datos = spark.read.csv(\"data/metadatos.csv\", inferSchema=True, header=True)"
   ]
  },
  {
   "cell_type": "code",
   "execution_count": 49,
   "metadata": {},
   "outputs": [],
   "source": [
    "dfs_meta_datos = dfs_meta_datos.withColumn(\"uid\", monotonically_increasing_id())"
   ]
  },
  {
   "cell_type": "code",
   "execution_count": 50,
   "metadata": {},
   "outputs": [],
   "source": [
    "def cleanup_text(record):\n",
    "    content = record[0]\n",
    "    words = content.split()\n",
    "    return words"
   ]
  },
  {
   "cell_type": "code",
   "execution_count": 51,
   "metadata": {},
   "outputs": [],
   "source": [
    "udf_cleantext = udf(cleanup_text , ArrayType(StringType()))\n",
    "clean_text = dfs_meta_datos.withColumn(\"words\", udf_cleantext(struct([dfs_meta_datos[x] for x in dfs_meta_datos.columns])))"
   ]
  },
  {
   "cell_type": "code",
   "execution_count": 52,
   "metadata": {},
   "outputs": [
    {
     "name": "stdout",
     "output_type": "stream",
     "text": [
      "+--------------------+---+--------------------+\n",
      "|             content|uid|               words|\n",
      "+--------------------+---+--------------------+\n",
      "|birdnest bayesian...|  0|[birdnest, bayesi...|\n",
      "|salient object de...|  1|[salient, object,...|\n",
      "|convex recoveri i...|  2|[convex, recoveri...|\n",
      "|almost settl hard...|  3|[almost, settl, h...|\n",
      "|simpl algorithm c...|  4|[simpl, algorithm...|\n",
      "|price polici sell...|  5|[price, polici, s...|\n",
      "|commut algorithm ...|  6|[commut, algorith...|\n",
      "|min cost travel s...|  7|[min, cost, trave...|\n",
      "|extens configur s...|  8|[extens, configur...|\n",
      "|complet simultan ...|  9|[complet, simulta...|\n",
      "+--------------------+---+--------------------+\n",
      "only showing top 10 rows\n",
      "\n"
     ]
    }
   ],
   "source": [
    "clean_text.show(10)"
   ]
  },
  {
   "cell_type": "code",
   "execution_count": 53,
   "metadata": {},
   "outputs": [],
   "source": [
    "cv = CountVectorizer(inputCol=\"words\", outputCol=\"rawFeatures\", vocabSize = 1000)\n",
    "cvmodel = cv.fit(clean_text)\n",
    "featurizedData = cvmodel.transform(clean_text)\n",
    "\n",
    "vocab = cvmodel.vocabulary\n",
    "vocab_broadcast = sc.broadcast(vocab)\n",
    "\n",
    "idf = IDF(inputCol=\"rawFeatures\", outputCol=\"features\")\n",
    "idfModel = idf.fit(featurizedData)\n",
    "rescaledData = idfModel.transform(featurizedData)"
   ]
  },
  {
   "cell_type": "code",
   "execution_count": 92,
   "metadata": {},
   "outputs": [
    {
     "name": "stdout",
     "output_type": "stream",
     "text": [
      "+--------------------+---+--------------------+--------------------+\n",
      "|             content|uid|               words|         rawFeatures|\n",
      "+--------------------+---+--------------------+--------------------+\n",
      "|birdnest bayesian...|  0|[birdnest, bayesi...|(1000,[0,1,2,3,4,...|\n",
      "|salient object de...|  1|[salient, object,...|(1000,[80,170,855...|\n",
      "|convex recoveri i...|  2|[convex, recoveri...|(1000,[51,193,349...|\n",
      "|almost settl hard...|  3|[almost, settl, h...|(1000,[0,1,4,7,8,...|\n",
      "|simpl algorithm c...|  4|[simpl, algorithm...|(1000,[0,1,3,4,7,...|\n",
      "|price polici sell...|  5|[price, polici, s...|(1000,[1,2,4,7,8,...|\n",
      "|commut algorithm ...|  6|[commut, algorith...|(1000,[0,1,4,8,14...|\n",
      "|min cost travel s...|  7|[min, cost, trave...|(1000,[0,1,2,7,8,...|\n",
      "|extens configur s...|  8|[extens, configur...|(1000,[47,227,838...|\n",
      "|complet simultan ...|  9|[complet, simulta...|(1000,[1,2,4,12,1...|\n",
      "+--------------------+---+--------------------+--------------------+\n",
      "only showing top 10 rows\n",
      "\n"
     ]
    }
   ],
   "source": [
    "featurizedData.show(10)"
   ]
  },
  {
   "cell_type": "code",
   "execution_count": 87,
   "metadata": {},
   "outputs": [
    {
     "name": "stdout",
     "output_type": "stream",
     "text": [
      "+--------------------+\n",
      "|         rawFeatures|\n",
      "+--------------------+\n",
      "|(1000,[0,1,2,3,4,...|\n",
      "|(1000,[80,170,855...|\n",
      "|(1000,[51,193,349...|\n",
      "|(1000,[0,1,4,7,8,...|\n",
      "|(1000,[0,1,3,4,7,...|\n",
      "|(1000,[1,2,4,7,8,...|\n",
      "|(1000,[0,1,4,8,14...|\n",
      "|(1000,[0,1,2,7,8,...|\n",
      "|(1000,[47,227,838...|\n",
      "|(1000,[1,2,4,12,1...|\n",
      "|(1000,[1,8,10,12,...|\n",
      "|(1000,[11,14,111,...|\n",
      "|(1000,[1,3,7,13,1...|\n",
      "|(1000,[1,2,8,10,1...|\n",
      "|(1000,[38,73,93,3...|\n",
      "|(1000,[1,3,5,7,25...|\n",
      "|(1000,[14,20,44,1...|\n",
      "|(1000,[6,131,136,...|\n",
      "|(1000,[1,2,3,4,7,...|\n",
      "|(1000,[1,3,8,10,1...|\n",
      "+--------------------+\n",
      "only showing top 20 rows\n",
      "\n"
     ]
    }
   ],
   "source": [
    "rescaledData.select('rawFeatures').show()"
   ]
  },
  {
   "cell_type": "code",
   "execution_count": 55,
   "metadata": {},
   "outputs": [
    {
     "name": "stdout",
     "output_type": "stream",
     "text": [
      "+-----+------------------------------------------------------------------------------------+\n",
      "|topic|topic_desc                                                                          |\n",
      "+-----+------------------------------------------------------------------------------------+\n",
      "|0    |[map, data, point, curv, loss, biolog, cross, algorithm, surfac, cell]              |\n",
      "|1    |[quantum, game, strategi, logic, classic, agent, mathcal, version, automata, lambda]|\n",
      "|2    |[power, delta, comput, size, parallel, total, independ, et, al, test]               |\n",
      "|3    |[graph, tree, color, edg, time, algorithm, problem, np, planar, vertic]             |\n",
      "|4    |[channel, bind, sourc, big, node, degre, relay, input, case, polynomi]              |\n",
      "|5    |[matric, group, random, block, error, rule, complex, entropi, distribut, correl]    |\n",
      "|6    |[protocol, receiv, attack, secur, messag, design, matrix, wireless, order, fix]     |\n",
      "|7    |[social, estim, detect, data, learn, network, decis, softwar, commun, test]         |\n",
      "|8    |[code, user, control, system, scheme, energi, video, inform, decod, interact]       |\n",
      "|9    |[method, model, imag, optim, network, nois, search, sampl, cost, learn]             |\n",
      "+-----+------------------------------------------------------------------------------------+\n",
      "\n"
     ]
    }
   ],
   "source": [
    "lda = LDA(k=10, seed=123, optimizer=\"em\", featuresCol=\"features\")\n",
    "\n",
    "ldamodel = lda.fit(rescaledData)\n",
    "\n",
    "ldatopics = ldamodel.describeTopics()\n",
    "\n",
    "def map_termID_to_Word(termIndices):\n",
    "    words = []\n",
    "    for termID in termIndices:\n",
    "        words.append(vocab_broadcast.value[termID])\n",
    "    \n",
    "    return words\n",
    "\n",
    "udf_map_termID_to_Word = udf(map_termID_to_Word , ArrayType(StringType()))\n",
    "ldatopics_mapped = ldatopics.withColumn(\"topic_desc\", udf_map_termID_to_Word(ldatopics.termIndices))\n",
    "ldatopics_mapped.select(ldatopics_mapped.topic, ldatopics_mapped.topic_desc).show(50,False)"
   ]
  },
  {
   "cell_type": "code",
   "execution_count": 56,
   "metadata": {},
   "outputs": [],
   "source": [
    "ldaResults = ldamodel.transform(rescaledData)\n",
    "ldaResults = ldaResults.select('uid','content','words','rawFeatures','features','topicDistribution')"
   ]
  },
  {
   "cell_type": "code",
   "execution_count": 57,
   "metadata": {},
   "outputs": [
    {
     "name": "stdout",
     "output_type": "stream",
     "text": [
      "+---+--------------------+--------------------+--------------------+--------------------+--------------------+\n",
      "|uid|             content|               words|         rawFeatures|            features|   topicDistribution|\n",
      "+---+--------------------+--------------------+--------------------+--------------------+--------------------+\n",
      "|  0|birdnest bayesian...|[birdnest, bayesi...|(1000,[0,1,2,3,4,...|(1000,[0,1,2,3,4,...|[0.05606669340478...|\n",
      "|  1|salient object de...|[salient, object,...|(1000,[80,170,855...|(1000,[80,170,855...|[0.09601228764239...|\n",
      "|  2|convex recoveri i...|[convex, recoveri...|(1000,[51,193,349...|(1000,[51,193,349...|[0.08985809529357...|\n",
      "|  3|almost settl hard...|[almost, settl, h...|(1000,[0,1,4,7,8,...|(1000,[0,1,4,7,8,...|[0.02253886006069...|\n",
      "|  4|simpl algorithm c...|[simpl, algorithm...|(1000,[0,1,3,4,7,...|(1000,[0,1,3,4,7,...|[0.26679101942628...|\n",
      "|  5|price polici sell...|[price, polici, s...|(1000,[1,2,4,7,8,...|(1000,[1,2,4,7,8,...|[0.05068687522568...|\n",
      "|  6|commut algorithm ...|[commut, algorith...|(1000,[0,1,4,8,14...|(1000,[0,1,4,8,14...|[0.07632761914073...|\n",
      "|  7|min cost travel s...|[min, cost, trave...|(1000,[0,1,2,7,8,...|(1000,[0,1,2,7,8,...|[0.02766751400927...|\n",
      "|  8|extens configur s...|[extens, configur...|(1000,[47,227,838...|(1000,[47,227,838...|[0.10733910486917...|\n",
      "|  9|complet simultan ...|[complet, simulta...|(1000,[1,2,4,12,1...|(1000,[1,2,4,12,1...|[0.04654012977584...|\n",
      "| 10|fix ingredi alrea...|[fix, ingredi, al...|(1000,[1,8,10,12,...|(1000,[1,8,10,12,...|[0.04332105733342...|\n",
      "| 11|taxat polici maxi...|[taxat, polici, m...|(1000,[11,14,111,...|(1000,[11,14,111,...|[0.08808509768980...|\n",
      "| 12|quantum lyapunov ...|[quantum, lyapuno...|(1000,[1,3,7,13,1...|(1000,[1,3,7,13,1...|[0.03557622172727...|\n",
      "| 13|iter receiv ofdm ...|[iter, receiv, of...|(1000,[1,2,8,10,1...|(1000,[1,2,8,10,1...|[0.02261787887227...|\n",
      "| 14|semidefinit progr...|[semidefinit, pro...|(1000,[38,73,93,3...|(1000,[38,73,93,3...|[0.08273446988385...|\n",
      "| 15|overview nomin ty...|[overview, nomin,...|(1000,[1,3,5,7,25...|(1000,[1,3,5,7,25...|[0.05315987394233...|\n",
      "| 16|bite recycl scale...|[bite, recycl, sc...|(1000,[14,20,44,1...|(1000,[14,20,44,1...|[0.10656355919600...|\n",
      "| 17|semi algebra colo...|[semi, algebra, c...|(1000,[6,131,136,...|(1000,[6,131,136,...|[0.08709307087108...|\n",
      "| 18|use isabel verifi...|[use, isabel, ver...|(1000,[1,2,3,4,7,...|(1000,[1,2,3,4,7,...|[0.07031184781338...|\n",
      "| 19|captur ari existe...|[captur, ari, exi...|(1000,[1,3,8,10,1...|(1000,[1,3,8,10,1...|[0.03625534842831...|\n",
      "+---+--------------------+--------------------+--------------------+--------------------+--------------------+\n",
      "only showing top 20 rows\n",
      "\n"
     ]
    }
   ],
   "source": [
    "ldaResults.show(20)"
   ]
  },
  {
   "cell_type": "code",
   "execution_count": 58,
   "metadata": {},
   "outputs": [],
   "source": [
    "def select_topic_udf(topicDistribution):\n",
    "    dom = topicDistribution[0]\n",
    "    index_dom = 0\n",
    "    for index in range(len(topicDistribution)):\n",
    "        if (topicDistribution[index]>dom):\n",
    "            dom=topicDistribution[index]\n",
    "            index_dom=index\n",
    "    \n",
    "    return index_dom\n",
    "\n",
    "udf_seltop = udf(select_topic_udf , IntegerType())\n",
    "ldaResults = ldaResults.withColumn(\"topic_prin\", udf_seltop(ldaResults.topicDistribution))\n"
   ]
  },
  {
   "cell_type": "code",
   "execution_count": 59,
   "metadata": {},
   "outputs": [
    {
     "name": "stdout",
     "output_type": "stream",
     "text": [
      "+---+--------------------+--------------------+--------------------+--------------------+--------------------+----------+\n",
      "|uid|             content|               words|         rawFeatures|            features|   topicDistribution|topic_prin|\n",
      "+---+--------------------+--------------------+--------------------+--------------------+--------------------+----------+\n",
      "|  0|birdnest bayesian...|[birdnest, bayesi...|(1000,[0,1,2,3,4,...|(1000,[0,1,2,3,4,...|[0.05606669340478...|         9|\n",
      "|  1|salient object de...|[salient, object,...|(1000,[80,170,855...|(1000,[80,170,855...|[0.09601228764239...|         7|\n",
      "|  2|convex recoveri i...|[convex, recoveri...|(1000,[51,193,349...|(1000,[51,193,349...|[0.08985809529357...|         9|\n",
      "|  3|almost settl hard...|[almost, settl, h...|(1000,[0,1,4,7,8,...|(1000,[0,1,4,7,8,...|[0.02253886006069...|         5|\n",
      "|  4|simpl algorithm c...|[simpl, algorithm...|(1000,[0,1,3,4,7,...|(1000,[0,1,3,4,7,...|[0.26679101942628...|         0|\n",
      "|  5|price polici sell...|[price, polici, s...|(1000,[1,2,4,7,8,...|(1000,[1,2,4,7,8,...|[0.05068687522568...|         1|\n",
      "|  6|commut algorithm ...|[commut, algorith...|(1000,[0,1,4,8,14...|(1000,[0,1,4,8,14...|[0.07632761914073...|         5|\n",
      "|  7|min cost travel s...|[min, cost, trave...|(1000,[0,1,2,7,8,...|(1000,[0,1,2,7,8,...|[0.02766751400927...|         9|\n",
      "|  8|extens configur s...|[extens, configur...|(1000,[47,227,838...|(1000,[47,227,838...|[0.10733910486917...|         7|\n",
      "|  9|complet simultan ...|[complet, simulta...|(1000,[1,2,4,12,1...|(1000,[1,2,4,12,1...|[0.04654012977584...|         5|\n",
      "+---+--------------------+--------------------+--------------------+--------------------+--------------------+----------+\n",
      "only showing top 10 rows\n",
      "\n"
     ]
    }
   ],
   "source": [
    "ldaResults.show(10)"
   ]
  },
  {
   "cell_type": "code",
   "execution_count": 60,
   "metadata": {},
   "outputs": [
    {
     "data": {
      "text/plain": [
       "['channel',\n",
       " 'bind',\n",
       " 'sourc',\n",
       " 'big',\n",
       " 'node',\n",
       " 'degre',\n",
       " 'relay',\n",
       " 'input',\n",
       " 'case',\n",
       " 'polynomi']"
      ]
     },
     "execution_count": 60,
     "metadata": {},
     "output_type": "execute_result"
    }
   ],
   "source": [
    "ldatopics_mapped.where((col(\"topic\") == 4)).select('topic_desc').collect()[0]['topic_desc']\n",
    "#.select('Category').collect()[0]['Category']"
   ]
  },
  {
   "cell_type": "code",
   "execution_count": 61,
   "metadata": {},
   "outputs": [
    {
     "data": {
      "text/html": [
       "<div>\n",
       "<style scoped>\n",
       "    .dataframe tbody tr th:only-of-type {\n",
       "        vertical-align: middle;\n",
       "    }\n",
       "\n",
       "    .dataframe tbody tr th {\n",
       "        vertical-align: top;\n",
       "    }\n",
       "\n",
       "    .dataframe thead th {\n",
       "        text-align: right;\n",
       "    }\n",
       "</style>\n",
       "<table border=\"1\" class=\"dataframe\">\n",
       "  <thead>\n",
       "    <tr style=\"text-align: right;\">\n",
       "      <th></th>\n",
       "      <th>uid</th>\n",
       "      <th>content</th>\n",
       "      <th>words</th>\n",
       "      <th>rawFeatures</th>\n",
       "      <th>features</th>\n",
       "      <th>topicDistribution</th>\n",
       "      <th>topic_prin</th>\n",
       "      <th>maximo</th>\n",
       "      <th>doc_name</th>\n",
       "    </tr>\n",
       "  </thead>\n",
       "  <tbody>\n",
       "    <tr>\n",
       "      <th>0</th>\n",
       "      <td>0</td>\n",
       "      <td>birdnest bayesian infer rate fraud detect revi...</td>\n",
       "      <td>[birdnest, bayesian, infer, rate, fraud, detec...</td>\n",
       "      <td>(2.0, 1.0, 1.0, 1.0, 1.0, 4.0, 1.0, 1.0, 1.0, ...</td>\n",
       "      <td>(2.686790030171601, 0.39936752824004584, 1.236...</td>\n",
       "      <td>[0.05606669340478734, 0.027914667227744303, 0....</td>\n",
       "      <td>9</td>\n",
       "      <td>0.334765</td>\n",
       "      <td>1511.06030.txt</td>\n",
       "    </tr>\n",
       "    <tr>\n",
       "      <th>1</th>\n",
       "      <td>1</td>\n",
       "      <td>salient object detect benchmark</td>\n",
       "      <td>[salient, object, detect, benchmark]</td>\n",
       "      <td>(0.0, 0.0, 0.0, 0.0, 0.0, 0.0, 0.0, 0.0, 0.0, ...</td>\n",
       "      <td>(0.0, 0.0, 0.0, 0.0, 0.0, 0.0, 0.0, 0.0, 0.0, ...</td>\n",
       "      <td>[0.09601228764239991, 0.08818783429711856, 0.0...</td>\n",
       "      <td>7</td>\n",
       "      <td>0.168919</td>\n",
       "      <td>1501.02741.txt</td>\n",
       "    </tr>\n",
       "    <tr>\n",
       "      <th>2</th>\n",
       "      <td>2</td>\n",
       "      <td>convex recoveri interferometr measur</td>\n",
       "      <td>[convex, recoveri, interferometr, measur]</td>\n",
       "      <td>(0.0, 0.0, 0.0, 0.0, 0.0, 0.0, 0.0, 0.0, 0.0, ...</td>\n",
       "      <td>(0.0, 0.0, 0.0, 0.0, 0.0, 0.0, 0.0, 0.0, 0.0, ...</td>\n",
       "      <td>[0.08985809529357405, 0.08799815889284404, 0.0...</td>\n",
       "      <td>9</td>\n",
       "      <td>0.153053</td>\n",
       "      <td>1307.6864.txt</td>\n",
       "    </tr>\n",
       "    <tr>\n",
       "      <th>3</th>\n",
       "      <td>3</td>\n",
       "      <td>almost settl hard noncommut determin paper stu...</td>\n",
       "      <td>[almost, settl, hard, noncommut, determin, pap...</td>\n",
       "      <td>(1.0, 1.0, 0.0, 0.0, 10.0, 0.0, 0.0, 1.0, 1.0,...</td>\n",
       "      <td>(1.3433950150858005, 0.39936752824004584, 0.0,...</td>\n",
       "      <td>[0.022538860060691522, 0.023640138650151934, 0...</td>\n",
       "      <td>5</td>\n",
       "      <td>0.782061</td>\n",
       "      <td>1101.1169.txt</td>\n",
       "    </tr>\n",
       "    <tr>\n",
       "      <th>4</th>\n",
       "      <td>4</td>\n",
       "      <td>simpl algorithm comput bocp articl devis conci...</td>\n",
       "      <td>[simpl, algorithm, comput, bocp, articl, devis...</td>\n",
       "      <td>(4.0, 1.0, 0.0, 1.0, 2.0, 0.0, 0.0, 1.0, 0.0, ...</td>\n",
       "      <td>(5.373580060343202, 0.39936752824004584, 0.0, ...</td>\n",
       "      <td>[0.26679101942628947, 0.05200593777769224, 0.1...</td>\n",
       "      <td>0</td>\n",
       "      <td>0.266791</td>\n",
       "      <td>1211.0729.txt</td>\n",
       "    </tr>\n",
       "  </tbody>\n",
       "</table>\n",
       "</div>"
      ],
      "text/plain": [
       "   uid                                            content  \\\n",
       "0    0  birdnest bayesian infer rate fraud detect revi...   \n",
       "1    1                    salient object detect benchmark   \n",
       "2    2               convex recoveri interferometr measur   \n",
       "3    3  almost settl hard noncommut determin paper stu...   \n",
       "4    4  simpl algorithm comput bocp articl devis conci...   \n",
       "\n",
       "                                               words  \\\n",
       "0  [birdnest, bayesian, infer, rate, fraud, detec...   \n",
       "1               [salient, object, detect, benchmark]   \n",
       "2          [convex, recoveri, interferometr, measur]   \n",
       "3  [almost, settl, hard, noncommut, determin, pap...   \n",
       "4  [simpl, algorithm, comput, bocp, articl, devis...   \n",
       "\n",
       "                                         rawFeatures  \\\n",
       "0  (2.0, 1.0, 1.0, 1.0, 1.0, 4.0, 1.0, 1.0, 1.0, ...   \n",
       "1  (0.0, 0.0, 0.0, 0.0, 0.0, 0.0, 0.0, 0.0, 0.0, ...   \n",
       "2  (0.0, 0.0, 0.0, 0.0, 0.0, 0.0, 0.0, 0.0, 0.0, ...   \n",
       "3  (1.0, 1.0, 0.0, 0.0, 10.0, 0.0, 0.0, 1.0, 1.0,...   \n",
       "4  (4.0, 1.0, 0.0, 1.0, 2.0, 0.0, 0.0, 1.0, 0.0, ...   \n",
       "\n",
       "                                            features  \\\n",
       "0  (2.686790030171601, 0.39936752824004584, 1.236...   \n",
       "1  (0.0, 0.0, 0.0, 0.0, 0.0, 0.0, 0.0, 0.0, 0.0, ...   \n",
       "2  (0.0, 0.0, 0.0, 0.0, 0.0, 0.0, 0.0, 0.0, 0.0, ...   \n",
       "3  (1.3433950150858005, 0.39936752824004584, 0.0,...   \n",
       "4  (5.373580060343202, 0.39936752824004584, 0.0, ...   \n",
       "\n",
       "                                   topicDistribution  topic_prin    maximo  \\\n",
       "0  [0.05606669340478734, 0.027914667227744303, 0....           9  0.334765   \n",
       "1  [0.09601228764239991, 0.08818783429711856, 0.0...           7  0.168919   \n",
       "2  [0.08985809529357405, 0.08799815889284404, 0.0...           9  0.153053   \n",
       "3  [0.022538860060691522, 0.023640138650151934, 0...           5  0.782061   \n",
       "4  [0.26679101942628947, 0.05200593777769224, 0.1...           0  0.266791   \n",
       "\n",
       "         doc_name  \n",
       "0  1511.06030.txt  \n",
       "1  1501.02741.txt  \n",
       "2   1307.6864.txt  \n",
       "3   1101.1169.txt  \n",
       "4   1211.0729.txt  "
      ]
     },
     "execution_count": 61,
     "metadata": {},
     "output_type": "execute_result"
    }
   ],
   "source": [
    "df_pd = ldaResults.toPandas()\n",
    "df_pd['maximo'] = df_pd['topicDistribution'].apply(lambda x: x.max())\n",
    "df_pd['doc_name']    = df_pd['uid'].apply(lambda x: documentos[x].replace(\"\\\\\",\"/\").split(\"/\")[-1])\n",
    "df_pd.head()"
   ]
  },
  {
   "cell_type": "code",
   "execution_count": 101,
   "metadata": {},
   "outputs": [],
   "source": [
    "query_txt = \"biology\"\n",
    "query = query_inverted_text_bm25(\"biology\")"
   ]
  },
  {
   "cell_type": "code",
   "execution_count": 106,
   "metadata": {},
   "outputs": [
    {
     "name": "stdout",
     "output_type": "stream",
     "text": [
      "Se presentan 10 resultados para la palabra 'biology'\n",
      "             \n",
      "El documento mas relevante es 1505.02348.txt\n",
      "             \n",
      "El documento mas relevante pertenece al topico 0 este se describe con las palabras 'map, data, point, curv, loss, biolog, cross, algorithm, surfac, cell'             \n",
      "En el resultado del bm25 tenemos 5 documentos que pertenecen al mismo topico y de los 980 papers tenemos 94 que pertenecen a la misma categoria\n",
      "             \n",
      "Los documentos mas relevantes segun topicos son: \n",
      "- 1509.05821.txt\n",
      "- 1503.07759.txt\n",
      "- 1506.04391.txt\n",
      "- 1505.04911.txt\n",
      "- 1310.6324.txt\n",
      "          \n"
     ]
    }
   ],
   "source": [
    "def topicos_query(query, query_txt):\n",
    "    resultados = sorted(query_result.items(), key=operator.itemgetter(1), reverse=True)[:10]\n",
    "    mejor_resultado = resultados[0]\n",
    "    mejor_doc = mejor_resultado[0]\n",
    "    mejor_doc_clean = mejor_doc.replace(\"\\\\\",\"/\").split(\"/\")[-1]\n",
    "    score     = mejor_resultado[1]\n",
    "    index_doc = documentos.index(mejor_doc)\n",
    "    topico = int(df_pd.iloc[[index_doc]]['topic_prin'])\n",
    "    topic_desc = ldatopics_mapped.where((col(\"topic\") == topico)).select('topic_desc').collect()[0]['topic_desc']\n",
    "    doc_mismo_topico = list(df_pd.loc[df_pd['topic_prin'] == topico].sort_values('maximo',ascending=0)['doc_name'])\n",
    "    doc_mismo_topico.remove(mejor_doc_clean)\n",
    "    resultado_topico_counter = 0\n",
    "    for resultado in resultados[1:]:\n",
    "        resultado_doc = resultado[0]\n",
    "        resultado_index_doc = documentos.index(resultado_doc)\n",
    "        resultado_topico = int(df_pd.iloc[[resultado_index_doc]]['topic_prin'])\n",
    "        if topico == resultado_topico:\n",
    "            resultado_topico_counter += 1\n",
    "    print(\"\"\"Se presentan {} resultados para la palabra '{}'\n",
    "             \\nEl documento mas relevante es {}\n",
    "             \\nEl documento mas relevante pertenece al topico {} este se describe con las palabras '{}'\\\n",
    "             \\nEn el resultado del bm25 tenemos {} documentos que pertenecen al mismo topico y de los {} papers tenemos {} que pertenecen a la misma categoria\n",
    "             \\nLos documentos mas relevantes segun topicos son: \\n- {}\n",
    "          \"\"\".format(len(resultados),query_txt,mejor_doc_clean, topico, \", \".join(topic_desc), resultado_topico_counter, len(documentos), len(doc_mismo_topico),\n",
    "                     '\\n- '.join(doc_mismo_topico[:5])))\n",
    "topicos_query(query, query_txt)"
   ]
  },
  {
   "cell_type": "code",
   "execution_count": 109,
   "metadata": {},
   "outputs": [
    {
     "name": "stdout",
     "output_type": "stream",
     "text": [
      "Se presentan 10 resultados para la palabra 'graph'\n",
      "             \n",
      "El documento mas relevante es 1502.05183.txt\n",
      "             \n",
      "El documento mas relevante pertenece al topico 8 este se describe con las palabras 'code, user, control, system, scheme, energi, video, inform, decod, interact'             \n",
      "En el resultado del bm25 tenemos 0 documentos que pertenecen al mismo topico y de los 980 papers tenemos 90 que pertenecen a la misma categoria\n",
      "             \n",
      "Los documentos mas relevantes segun topicos son: \n",
      "- 1204.1868.txt\n",
      "- 1212.1710.txt\n",
      "- 1204.6321.txt\n",
      "- 1302.5906.txt\n",
      "- 1307.0449.txt\n",
      "          \n"
     ]
    }
   ],
   "source": [
    "query_txt = \"graph\"\n",
    "query_result = query_inverted_text_bm25(query_txt)\n",
    "topicos_query(query_result, query_txt)"
   ]
  }
 ],
 "metadata": {
  "kernelspec": {
   "display_name": "Python3.6(conda)",
   "language": "python",
   "name": "python36"
  },
  "language_info": {
   "codemirror_mode": {
    "name": "ipython",
    "version": 3
   },
   "file_extension": ".py",
   "mimetype": "text/x-python",
   "name": "python",
   "nbconvert_exporter": "python",
   "pygments_lexer": "ipython3",
   "version": "3.6.8"
  }
 },
 "nbformat": 4,
 "nbformat_minor": 2
}
