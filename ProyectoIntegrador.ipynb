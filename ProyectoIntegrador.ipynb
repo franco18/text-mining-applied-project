{
 "cells": [
  {
   "cell_type": "code",
   "execution_count": 1,
   "metadata": {},
   "outputs": [],
   "source": [
    "import glob # libreria para extraer la rurta de los archivos\n",
    "import re # libreria para manejos de expresiones regulares\n",
    "import collections #### para poder contar los hash\n",
    "import pandas as pd # libreria para manejo de bases datos\n",
    "import numpy as np # libreria para manejo de vectores y arreglos\n",
    "from nltk.corpus import stopwords, wordnet # importa las stop words y las palabras del ingles\n",
    "from nltk.stem.porter import PorterStemmer # metodo para stemming\n",
    "from nltk.stem.lancaster import LancasterStemmer # metodo para stemming\n",
    "from nltk.stem import WordNetLemmatizer # metodo para lematizar"
   ]
  },
  {
   "cell_type": "code",
   "execution_count": 23,
   "metadata": {},
   "outputs": [],
   "source": [
    "#Read Files\n",
    "files_txt = glob.glob(\"/opt/datasets/mcda-pi1-20191/papers-txt/*.txt\")\n",
    "\n",
    "# instanciar la clase para lematizar\n",
    "wordnet_lemmatizer = WordNetLemmatizer()\n",
    "# llamamos al diccionario de stop words en ingles\n",
    "sw = stopwords.words(\"english\")\n",
    "\n",
    "# Recorre los archivos para generar el bag of words\n",
    "bag_of_words = {} # creacion de la estructura de datos (diccionario) para almacenar el bag of words\n",
    "for file in files_txt:\n",
    "    input_file = open(file,\"r\",encoding='utf-8') # abre los archivos\n",
    "    texto = input_file.read() # carga el contenido del archivo\n",
    "    texto = re.sub('[^A-Za-z0-9]+',' ',texto) # solo permanecen los elementos alfanumericos\n",
    "    tokens = texto.split() # Realiza la tokenizacion\n",
    "    #tokens = [w for w in tokens if wordnet.synsets(w)] # deja solo las palabras asociadas al ingles\n",
    "    stemmer = PorterStemmer() # instancia una forma de stemming\n",
    "    #stemmer2 = LancasterStemmer() # instancia una forma de stemming\n",
    "    # aplica lematizacion, stemming, elimina de stop words y aplica reglas logicas para reducir la cantidad de tokens\n",
    "    tokens = [wordnet_lemmatizer.lemmatize(stemmer.stem(w.lower()), pos=\"v\") for w in tokens if (len(w)>1) and w.isalpha() and (w not in sw) and wordnet.synsets(w)] # Longitud mayor a 1\n",
    "    #tokens = [w for w in tokens if wordnet.synsets(w)] # deja solo las palabras asociadas al ingles\n",
    "    # realiza el conteo de la frecuencia de cada palabra para cada documento\n",
    "    counter=collections.Counter(tokens)\n",
    "    # para un diccionario almacenamos el key que es el nombre del documento y el value que es un diccionario con las key como palabras y los value como la frecuencia de la palabra\n",
    "    bag_of_words[file] = dict(counter)\n"
   ]
  },
  {
   "cell_type": "code",
   "execution_count": 25,
   "metadata": {},
   "outputs": [],
   "source": [
    "helper = {}\n",
    "i = 0\n",
    "for doc, words in bag_of_words.items():\n",
    "    for word in words.keys():\n",
    "        if word in helper:\n",
    "            helper[word] += 1\n",
    "        else:\n",
    "            helper[word] = 1\n",
    "\n",
    "for documento, words in bag_of_words.items():\n",
    "    num_words = sum(bag_of_words[documento].values())\n",
    "    for key, value in words.items():\n",
    "        dic = {}\n",
    "        dic['freq'] = value\n",
    "        dic['freqR'] = value / num_words\n",
    "        dic['tf'] = 1 + np.log(value)\n",
    "        dic['idf'] = np.log(len(bag_of_words) / helper[key])\n",
    "        dic['tf-idf'] = dic['tf'] * dic['idf']\n",
    "        bag_of_words[documento][key] = dic\n"
   ]
  },
  {
   "cell_type": "markdown",
   "metadata": {},
   "source": [
    "## Esta funcion ordena el bow"
   ]
  },
  {
   "cell_type": "code",
   "execution_count": null,
   "metadata": {
    "scrolled": true
   },
   "outputs": [],
   "source": [
    "bag_of_words[files_txt[0]]\n",
    "#sort\n",
    "import operator\n",
    "sorted_x = sorted(bag_of_words[files_txt[0]].items(), key=lambda kv: kv[0])\n",
    "sorted_x"
   ]
  },
  {
   "cell_type": "code",
   "execution_count": null,
   "metadata": {},
   "outputs": [],
   "source": [
    "# Construccion de un DF con informacion de frecuencia de palabras por documento\n",
    "keys, values = [], [] # creacion de listas vacias\n",
    "for key, value in bag_of_words.items():\n",
    "    keys.append(key) # adjunta cada palabra a una lista vacia\n",
    "    values.append(value) # adjunta cada valor a una lista vacia\n",
    "    \n",
    "pdTest = pd.DataFrame(data=values, index=keys) # Genera el dataframe con los documentos, las palabras y las frecuencias \n",
    "pdTest[['aisss']]\n",
    "pdTest[['aisss']].dropna(axis = 'rows')#.index[0]"
   ]
  },
  {
   "cell_type": "code",
   "execution_count": 13,
   "metadata": {},
   "outputs": [
    {
     "name": "stdout",
     "output_type": "stream",
     "text": [
      "yes\n"
     ]
    }
   ],
   "source": [
    "if not wordnet.synsets('does'):\n",
    "    print('Not an English Word')\n",
    "else:\n",
    "    print('yes')"
   ]
  },
  {
   "cell_type": "code",
   "execution_count": null,
   "metadata": {},
   "outputs": [],
   "source": [
    "'http' in sison"
   ]
  },
  {
   "cell_type": "code",
   "execution_count": null,
   "metadata": {},
   "outputs": [],
   "source": [
    "len(sison)"
   ]
  },
  {
   "cell_type": "code",
   "execution_count": null,
   "metadata": {},
   "outputs": [],
   "source": [
    "sison = [x for x in total if wordnet.synsets(x)]\n",
    "sison"
   ]
  },
  {
   "cell_type": "code",
   "execution_count": null,
   "metadata": {},
   "outputs": [],
   "source": [
    "total = sorted(pdTest.columns.tolist())"
   ]
  },
  {
   "cell_type": "code",
   "execution_count": null,
   "metadata": {},
   "outputs": [],
   "source": [
    "len(total)"
   ]
  },
  {
   "cell_type": "code",
   "execution_count": 29,
   "metadata": {},
   "outputs": [
    {
     "data": {
      "text/plain": [
       "{'friendli': 1, 'user': 2}"
      ]
     },
     "execution_count": 29,
     "metadata": {},
     "output_type": "execute_result"
    }
   ],
   "source": [
    "#query\n",
    "def transformar_informacion (texto):\n",
    "    texto = re.sub('[^A-Za-z0-9]+',' ',texto) # Caracteres especiales\n",
    "    texto = texto.replace('í','i')\n",
    "    tokens = texto.split()\n",
    "    stemmer = PorterStemmer()\n",
    "    stemmer2 = LancasterStemmer()\n",
    "    tokens = [wordnet_lemmatizer.lemmatize(stemmer.stem(w.lower()), pos=\"v\") for w in tokens if (len(w)>1) and w.isalpha() and w not in sw and wordnet.synsets(w)] # Longitud mayor a 1\n",
    "    counter=collections.Counter(tokens)\n",
    "    return dict(counter)\n",
    "\n",
    "texto = \"user friendly user\"\n",
    "query = transformar_informacion(texto)\n",
    "query"
   ]
  },
  {
   "cell_type": "code",
   "execution_count": 33,
   "metadata": {},
   "outputs": [
    {
     "name": "stdout",
     "output_type": "stream",
     "text": [
      "Son 345 resultados.... [('/opt/datasets/mcda-pi1-20191/papers-txt/1504.03342.txt', 14.339221464982913), ('/opt/datasets/mcda-pi1-20191/papers-txt/1304.7480.txt', 13.549103091088817), ('/opt/datasets/mcda-pi1-20191/papers-txt/1312.0461.txt', 12.779736745099953), ('/opt/datasets/mcda-pi1-20191/papers-txt/1204.2606.txt', 12.656627474604603), ('/opt/datasets/mcda-pi1-20191/papers-txt/1512.00327.txt', 12.086850233838494), ('/opt/datasets/mcda-pi1-20191/papers-txt/1511.06030.txt', 12.047761041692553), ('/opt/datasets/mcda-pi1-20191/papers-txt/1403.5715.txt', 12.007892611890918), ('/opt/datasets/mcda-pi1-20191/papers-txt/1101.1477.txt', 11.939626599152001), ('/opt/datasets/mcda-pi1-20191/papers-txt/1508.06589.txt', 11.861633597686627), ('/opt/datasets/mcda-pi1-20191/papers-txt/1407.3556.txt', 11.704060527839234), ('/opt/datasets/mcda-pi1-20191/papers-txt/1204.6321.txt', 11.63497622707262), ('/opt/datasets/mcda-pi1-20191/papers-txt/1412.4171.txt', 11.591581091193483), ('/opt/datasets/mcda-pi1-20191/papers-txt/1309.5568.txt', 11.540909718033554), ('/opt/datasets/mcda-pi1-20191/papers-txt/1312.3614.txt', 11.524347869595513), ('/opt/datasets/mcda-pi1-20191/papers-txt/1401.1671.txt', 11.436997742590188), ('/opt/datasets/mcda-pi1-20191/papers-txt/1508.04417.txt', 10.885302512980633), ('/opt/datasets/mcda-pi1-20191/papers-txt/1504.00495.txt', 10.861633597686627), ('/opt/datasets/mcda-pi1-20191/papers-txt/1511.08887.txt', 10.764053269347762), ('/opt/datasets/mcda-pi1-20191/papers-txt/1405.0718.txt', 10.764053269347762), ('/opt/datasets/mcda-pi1-20191/papers-txt/1204.1868.txt', 10.525359754082631), ('/opt/datasets/mcda-pi1-20191/papers-txt/1401.6312.txt', 10.454719949364002), ('/opt/datasets/mcda-pi1-20191/papers-txt/1506.04496.txt', 10.409385238781931), ('/opt/datasets/mcda-pi1-20191/papers-txt/1511.06033.txt', 10.286269452783065), ('/opt/datasets/mcda-pi1-20191/papers-txt/1501.06076.txt', 10.086102535669101), ('/opt/datasets/mcda-pi1-20191/papers-txt/1307.6033.txt', 10.050703381470299), ('/opt/datasets/mcda-pi1-20191/papers-txt/1511.03518.txt', 10.014666370464942), ('/opt/datasets/mcda-pi1-20191/papers-txt/1504.05895.txt', 9.977968093128549), ('/opt/datasets/mcda-pi1-20191/papers-txt/1311.3158.txt', 9.8636512654486523), ('/opt/datasets/mcda-pi1-20191/papers-txt/1101.5460.txt', 9.8240460108562928), ('/opt/datasets/mcda-pi1-20191/papers-txt/1503.02985.txt', 9.6133249795406392), ('/opt/datasets/mcda-pi1-20191/papers-txt/1511.01249.txt', 9.5683792678365229), ('/opt/datasets/mcda-pi1-20191/papers-txt/1408.4528.txt', 9.5224002313871239), ('/opt/datasets/mcda-pi1-20191/papers-txt/1004.0208.txt', 9.5224002313871239), ('/opt/datasets/mcda-pi1-20191/papers-txt/1303.5678.txt', 9.5224002313871239), ('/opt/datasets/mcda-pi1-20191/papers-txt/1411.3140.txt', 9.4753392365667359), ('/opt/datasets/mcda-pi1-20191/papers-txt/1509.04857.txt', 9.3271232922592926), ('/opt/datasets/mcda-pi1-20191/papers-txt/1411.0440.txt', 9.3271232922592926), ('/opt/datasets/mcda-pi1-20191/papers-txt/1411.4840.txt', 9.2751723194527713), ('/opt/datasets/mcda-pi1-20191/papers-txt/1507.08861.txt', 9.2218358252884478), ('/opt/datasets/mcda-pi1-20191/papers-txt/1307.2968.txt', 9.1670378769122198), ('/opt/datasets/mcda-pi1-20191/papers-txt/1510.05278.txt', 9.1670378769122198), ('/opt/datasets/mcda-pi1-20191/papers-txt/1411.4097.txt', 9.1106961229788261), ('/opt/datasets/mcda-pi1-20191/papers-txt/1506.01110.txt', 8.8679744089702925), ('/opt/datasets/mcda-pi1-20191/papers-txt/1501.01042.txt', 8.8023947633243118), ('/opt/datasets/mcda-pi1-20191/papers-txt/1511.03894.txt', 8.7345916599729492), ('/opt/datasets/mcda-pi1-20191/papers-txt/1311.2970.txt', 8.7345916599729492), ('/opt/datasets/mcda-pi1-20191/papers-txt/1506.04391.txt', 8.6644090203504085), ('/opt/datasets/mcda-pi1-20191/papers-txt/1409.8061.txt', 8.6644090203504085), ('/opt/datasets/mcda-pi1-20191/papers-txt/1408.0135.txt', 8.5916737320086582), ('/opt/datasets/mcda-pi1-20191/papers-txt/1209.5785.txt', 8.437751649736402), ('/opt/datasets/mcda-pi1-20191/papers-txt/1504.01442.txt', 8.437751649736402), ('/opt/datasets/mcda-pi1-20191/papers-txt/1305.5670.txt', 8.416100402204421), ('/opt/datasets/mcda-pi1-20191/papers-txt/1503.02951.txt', 8.3561076606958906), ('/opt/datasets/mcda-pi1-20191/papers-txt/1509.00773.txt', 8.1820849067166321), ('/opt/datasets/mcda-pi1-20191/papers-txt/1502.05767.txt', 8.1298987149230726), ('/opt/datasets/mcda-pi1-20191/papers-txt/1506.03872.txt', 8.0890448754468451), ('/opt/datasets/mcda-pi1-20191/papers-txt/1511.04798.txt', 7.9914645471079817), ('/opt/datasets/mcda-pi1-20191/papers-txt/1506.04972.txt', 7.9914645471079817), ('/opt/datasets/mcda-pi1-20191/papers-txt/1510.04389.txt', 7.9914645471079817), ('/opt/datasets/mcda-pi1-20191/papers-txt/1507.05819.txt', 7.8888779583328805), ('/opt/datasets/mcda-pi1-20191/papers-txt/1507.07091.txt', 7.780743515792329), ('/opt/datasets/mcda-pi1-20191/papers-txt/1411.7895.txt', 7.5451774444795623), ('/opt/datasets/mcda-pi1-20191/papers-txt/1310.1861.txt', 7.5451774444795623), ('/opt/datasets/mcda-pi1-20191/papers-txt/1407.5218.txt', 7.5451774444795623), ('/opt/datasets/mcda-pi1-20191/papers-txt/1209.1711.txt', 7.4161004022044201), ('/opt/datasets/mcda-pi1-20191/papers-txt/1407.4908.txt', 7.4161004022044201), ('/opt/datasets/mcda-pi1-20191/papers-txt/1505.05917.txt', 7.4161004022044201), ('/opt/datasets/mcda-pi1-20191/papers-txt/1203.5188.txt', 7.4161004022044201), ('/opt/datasets/mcda-pi1-20191/papers-txt/1504.00222.txt', 7.4161004022044201), ('/opt/datasets/mcda-pi1-20191/papers-txt/1312.0049.txt', 7.2781146592305168), ('/opt/datasets/mcda-pi1-20191/papers-txt/1506.05193.txt', 7.2781146592305168), ('/opt/datasets/mcda-pi1-20191/papers-txt/1408.1025.txt', 7.2781146592305168), ('/opt/datasets/mcda-pi1-20191/papers-txt/1211.4892.txt', 7.2781146592305168), ('/opt/datasets/mcda-pi1-20191/papers-txt/1508.02570.txt', 7.2781146592305168), ('/opt/datasets/mcda-pi1-20191/papers-txt/1408.3976.txt', 7.2781146592305168), ('/opt/datasets/mcda-pi1-20191/papers-txt/1403.1142.txt', 7.2781146592305168), ('/opt/datasets/mcda-pi1-20191/papers-txt/1307.2559.txt', 7.1588830833596724), ('/opt/datasets/mcda-pi1-20191/papers-txt/1412.5902.txt', 7.1588830833596715), ('/opt/datasets/mcda-pi1-20191/papers-txt/1510.08202.txt', 7.1298987149230735), ('/opt/datasets/mcda-pi1-20191/papers-txt/1504.03957.txt', 7.1298987149230735), ('/opt/datasets/mcda-pi1-20191/papers-txt/1312.1664.txt', 7.1298987149230735), ('/opt/datasets/mcda-pi1-20191/papers-txt/1404.2458.txt', 7.1298987149230735), ('/opt/datasets/mcda-pi1-20191/papers-txt/1405.0637.txt', 6.9698132995760007), ('/opt/datasets/mcda-pi1-20191/papers-txt/1304.2503.txt', 6.9698132995760007), ('/opt/datasets/mcda-pi1-20191/papers-txt/1311.6876.txt', 6.9698132995760007), ('/opt/datasets/mcda-pi1-20191/papers-txt/1411.6057.txt', 6.8712010109078916), ('/opt/datasets/mcda-pi1-20191/papers-txt/1208.6408.txt', 6.7957905455967413), ('/opt/datasets/mcda-pi1-20191/papers-txt/1202.4910.txt', 6.7957905455967413), ('/opt/datasets/mcda-pi1-20191/papers-txt/1402.1607.txt', 6.7957905455967413), ('/opt/datasets/mcda-pi1-20191/papers-txt/1511.03005.txt', 6.7957905455967413), ('/opt/datasets/mcda-pi1-20191/papers-txt/1503.05656.txt', 6.7957905455967413), ('/opt/datasets/mcda-pi1-20191/papers-txt/1503.03169.txt', 6.6051701859880918), ('/opt/datasets/mcda-pi1-20191/papers-txt/1307.2783.txt', 6.6051701859880918), ('/opt/datasets/mcda-pi1-20191/papers-txt/1506.01978.txt', 6.5835189384561099), ('/opt/datasets/mcda-pi1-20191/papers-txt/1502.01410.txt', 6.3944491546724391), ('/opt/datasets/mcda-pi1-20191/papers-txt/1312.1277.txt', 6.3944491546724391), ('/opt/datasets/mcda-pi1-20191/papers-txt/1509.01683.txt', 6.3944491546724391), ('/opt/datasets/mcda-pi1-20191/papers-txt/1509.09236.txt', 6.3944491546724391), ('/opt/datasets/mcda-pi1-20191/papers-txt/1408.3877.txt', 6.218875824868201), ('/opt/datasets/mcda-pi1-20191/papers-txt/1406.2534.txt', 6.1588830833596715), ('/opt/datasets/mcda-pi1-20191/papers-txt/1412.5718.txt', 6.1588830833596715), ('/opt/datasets/mcda-pi1-20191/papers-txt/1510.04780.txt', 6.1588830833596715), ('/opt/datasets/mcda-pi1-20191/papers-txt/1501.03872.txt', 6.1588830833596715), ('/opt/datasets/mcda-pi1-20191/papers-txt/1304.3944.txt', 6.1588830833596715), ('/opt/datasets/mcda-pi1-20191/papers-txt/1402.5481.txt', 5.8918202981106269), ('/opt/datasets/mcda-pi1-20191/papers-txt/1510.02833.txt', 5.8918202981106269), ('/opt/datasets/mcda-pi1-20191/papers-txt/1412.7725.txt', 5.8918202981106269), ('/opt/datasets/mcda-pi1-20191/papers-txt/1509.01347.txt', 5.8918202981106269), ('/opt/datasets/mcda-pi1-20191/papers-txt/1505.07368.txt', 5.8918202981106269), ('/opt/datasets/mcda-pi1-20191/papers-txt/1502.02272.txt', 5.8918202981106269), ('/opt/datasets/mcda-pi1-20191/papers-txt/1510.05175.txt', 5.8918202981106269), ('/opt/datasets/mcda-pi1-20191/papers-txt/1201.3416.txt', 5.8918202981106269), ('/opt/datasets/mcda-pi1-20191/papers-txt/1205.6363.txt', 5.8918202981106269), ('/opt/datasets/mcda-pi1-20191/papers-txt/1511.08585.txt', 5.8918202981106269), ('/opt/datasets/mcda-pi1-20191/papers-txt/1506.03410.txt', 5.7725887222397816), ('/opt/datasets/mcda-pi1-20191/papers-txt/1301.1107.txt', 5.5835189384561099), ('/opt/datasets/mcda-pi1-20191/papers-txt/1402.3329.txt', 5.5835189384561099), ('/opt/datasets/mcda-pi1-20191/papers-txt/1506.00768.txt', 5.5835189384561099), ('/opt/datasets/mcda-pi1-20191/papers-txt/1001.1435.txt', 5.5835189384561099), ('/opt/datasets/mcda-pi1-20191/papers-txt/1409.6182.txt', 5.5835189384561099), ('/opt/datasets/mcda-pi1-20191/papers-txt/1208.3124.txt', 5.5835189384561099), ('/opt/datasets/mcda-pi1-20191/papers-txt/1508.00688.txt', 5.5835189384561099), ('/opt/datasets/mcda-pi1-20191/papers-txt/1507.07045.txt', 5.5835189384561099), ('/opt/datasets/mcda-pi1-20191/papers-txt/1306.0760.txt', 5.5835189384561099), ('/opt/datasets/mcda-pi1-20191/papers-txt/1503.00244.txt', 5.5835189384561099), ('/opt/datasets/mcda-pi1-20191/papers-txt/1507.02250.txt', 5.218875824868201), ('/opt/datasets/mcda-pi1-20191/papers-txt/1506.08435.txt', 5.218875824868201), ('/opt/datasets/mcda-pi1-20191/papers-txt/1408.2467.txt', 5.218875824868201), ('/opt/datasets/mcda-pi1-20191/papers-txt/1503.00491.txt', 5.218875824868201), ('/opt/datasets/mcda-pi1-20191/papers-txt/1508.06269.txt', 5.218875824868201), ('/opt/datasets/mcda-pi1-20191/papers-txt/1510.03840.txt', 5.218875824868201), ('/opt/datasets/mcda-pi1-20191/papers-txt/1511.03234.txt', 5.218875824868201), ('/opt/datasets/mcda-pi1-20191/papers-txt/1511.08152.txt', 5.218875824868201), ('/opt/datasets/mcda-pi1-20191/papers-txt/1506.07094.txt', 5.218875824868201), ('/opt/datasets/mcda-pi1-20191/papers-txt/1505.02213.txt', 5.218875824868201), ('/opt/datasets/mcda-pi1-20191/papers-txt/1510.07380.txt', 5.218875824868201), ('/opt/datasets/mcda-pi1-20191/papers-txt/1511.00736.txt', 4.7725887222397816), ('/opt/datasets/mcda-pi1-20191/papers-txt/1412.2877.txt', 4.7725887222397816), ('/opt/datasets/mcda-pi1-20191/papers-txt/1309.0671.txt', 4.7725887222397816), ('/opt/datasets/mcda-pi1-20191/papers-txt/1511.07174.txt', 4.7725887222397816), ('/opt/datasets/mcda-pi1-20191/papers-txt/1501.05098.txt', 4.7725887222397816), ('/opt/datasets/mcda-pi1-20191/papers-txt/1405.7264.txt', 4.7725887222397816), ('/opt/datasets/mcda-pi1-20191/papers-txt/1510.04524.txt', 4.7725887222397816), ('/opt/datasets/mcda-pi1-20191/papers-txt/1508.04720.txt', 4.7725887222397816), ('/opt/datasets/mcda-pi1-20191/papers-txt/1206.4656.txt', 4.7725887222397816), ('/opt/datasets/mcda-pi1-20191/papers-txt/1409.8580.txt', 4.7725887222397816), ('/opt/datasets/mcda-pi1-20191/papers-txt/1406.7373.txt', 4.7725887222397816), ('/opt/datasets/mcda-pi1-20191/papers-txt/1411.5878.txt', 4.7725887222397816), ('/opt/datasets/mcda-pi1-20191/papers-txt/1506.08977.txt', 4.7725887222397816), ('/opt/datasets/mcda-pi1-20191/papers-txt/0911.1544.txt', 4.7725887222397816), ('/opt/datasets/mcda-pi1-20191/papers-txt/1511.02476.txt', 4.7725887222397816), ('/opt/datasets/mcda-pi1-20191/papers-txt/1503.07759.txt', 4.7725887222397816), ('/opt/datasets/mcda-pi1-20191/papers-txt/1502.04052.txt', 4.7725887222397816), ('/opt/datasets/mcda-pi1-20191/papers-txt/1507.03838.txt', 4.7725887222397816), ('/opt/datasets/mcda-pi1-20191/papers-txt/1403.1639.txt', 4.7725887222397816), ('/opt/datasets/mcda-pi1-20191/papers-txt/1411.1751.txt', 4.7725887222397816), ('/opt/datasets/mcda-pi1-20191/papers-txt/1504.01782.txt', 4.3862943611198908), ('/opt/datasets/mcda-pi1-20191/papers-txt/1311.0320.txt', 4.3862943611198908), ('/opt/datasets/mcda-pi1-20191/papers-txt/1106.1445.txt', 4.3862943611198908), ('/opt/datasets/mcda-pi1-20191/papers-txt/1211.5608.txt', 4.3862943611198908), ('/opt/datasets/mcda-pi1-20191/papers-txt/1509.08346.txt', 4.3862943611198908), ('/opt/datasets/mcda-pi1-20191/papers-txt/1308.5146.txt', 4.3862943611198908), ('/opt/datasets/mcda-pi1-20191/papers-txt/1402.1526.txt', 4.19722457733622), ('/opt/datasets/mcda-pi1-20191/papers-txt/0706.1402.txt', 4.19722457733622), ('/opt/datasets/mcda-pi1-20191/papers-txt/1402.6208.txt', 4.19722457733622), ('/opt/datasets/mcda-pi1-20191/papers-txt/1210.7341.txt', 4.19722457733622), ('/opt/datasets/mcda-pi1-20191/papers-txt/1505.04911.txt', 4.19722457733622), ('/opt/datasets/mcda-pi1-20191/papers-txt/1404.3442.txt', 4.19722457733622), ('/opt/datasets/mcda-pi1-20191/papers-txt/1511.01258.txt', 4.19722457733622), ('/opt/datasets/mcda-pi1-20191/papers-txt/1404.3186.txt', 4.19722457733622), ('/opt/datasets/mcda-pi1-20191/papers-txt/1304.4964.txt', 4.19722457733622), ('/opt/datasets/mcda-pi1-20191/papers-txt/1506.00272.txt', 4.19722457733622), ('/opt/datasets/mcda-pi1-20191/papers-txt/1504.04867.txt', 4.19722457733622), ('/opt/datasets/mcda-pi1-20191/papers-txt/1507.02980.txt', 4.19722457733622), ('/opt/datasets/mcda-pi1-20191/papers-txt/1509.08979.txt', 4.19722457733622), ('/opt/datasets/mcda-pi1-20191/papers-txt/1303.2054.txt', 4.19722457733622), ('/opt/datasets/mcda-pi1-20191/papers-txt/0911.1546.txt', 4.19722457733622), ('/opt/datasets/mcda-pi1-20191/papers-txt/0911.1509.txt', 4.19722457733622), ('/opt/datasets/mcda-pi1-20191/papers-txt/1308.0801.txt', 4.19722457733622), ('/opt/datasets/mcda-pi1-20191/papers-txt/1509.02900.txt', 4.19722457733622), ('/opt/datasets/mcda-pi1-20191/papers-txt/1507.04027.txt', 4.19722457733622), ('/opt/datasets/mcda-pi1-20191/papers-txt/1506.01634.txt', 4.19722457733622), ('/opt/datasets/mcda-pi1-20191/papers-txt/1509.05664.txt', 4.19722457733622), ('/opt/datasets/mcda-pi1-20191/papers-txt/1502.05058.txt', 4.19722457733622), ('/opt/datasets/mcda-pi1-20191/papers-txt/1504.03856.txt', 4.1780538303479453), ('/opt/datasets/mcda-pi1-20191/papers-txt/1502.07884.txt', 3.6931471805599454), ('/opt/datasets/mcda-pi1-20191/papers-txt/1508.03269.txt', 3.6931471805599454), ('/opt/datasets/mcda-pi1-20191/papers-txt/1501.02741.txt', 3.3862943611198908), ('/opt/datasets/mcda-pi1-20191/papers-txt/1404.3056.txt', 3.3862943611198908), ('/opt/datasets/mcda-pi1-20191/papers-txt/1306.3261.txt', 3.3862943611198908), ('/opt/datasets/mcda-pi1-20191/papers-txt/1507.04606.txt', 3.3862943611198908), ('/opt/datasets/mcda-pi1-20191/papers-txt/1308.1391.txt', 3.3862943611198908), ('/opt/datasets/mcda-pi1-20191/papers-txt/1412.2231.txt', 3.3862943611198908), ('/opt/datasets/mcda-pi1-20191/papers-txt/1401.8219.txt', 3.3862943611198908), ('/opt/datasets/mcda-pi1-20191/papers-txt/1506.06138.txt', 3.3862943611198908), ('/opt/datasets/mcda-pi1-20191/papers-txt/1511.03501.txt', 3.3862943611198908), ('/opt/datasets/mcda-pi1-20191/papers-txt/1408.1118.txt', 3.3862943611198908), ('/opt/datasets/mcda-pi1-20191/papers-txt/1006.5892.txt', 3.3862943611198908), ('/opt/datasets/mcda-pi1-20191/papers-txt/1504.07766.txt', 3.3862943611198908), ('/opt/datasets/mcda-pi1-20191/papers-txt/1505.05312.txt', 3.3862943611198908), ('/opt/datasets/mcda-pi1-20191/papers-txt/1509.07552.txt', 3.3862943611198908), ('/opt/datasets/mcda-pi1-20191/papers-txt/1306.2476.txt', 3.3862943611198908), ('/opt/datasets/mcda-pi1-20191/papers-txt/1403.4861.txt', 3.3862943611198908), ('/opt/datasets/mcda-pi1-20191/papers-txt/1502.05491.txt', 3.3862943611198908), ('/opt/datasets/mcda-pi1-20191/papers-txt/1507.01089.txt', 3.3862943611198908), ('/opt/datasets/mcda-pi1-20191/papers-txt/1312.2048.txt', 3.3862943611198908), ('/opt/datasets/mcda-pi1-20191/papers-txt/1502.04147.txt', 3.3862943611198908), ('/opt/datasets/mcda-pi1-20191/papers-txt/1406.6145.txt', 3.3862943611198908), ('/opt/datasets/mcda-pi1-20191/papers-txt/1406.6924.txt', 3.3862943611198908), ('/opt/datasets/mcda-pi1-20191/papers-txt/1305.6431.txt', 3.3862943611198908), ('/opt/datasets/mcda-pi1-20191/papers-txt/1508.03837.txt', 3.3862943611198908), ('/opt/datasets/mcda-pi1-20191/papers-txt/1508.03891.txt', 3.3862943611198908), ('/opt/datasets/mcda-pi1-20191/papers-txt/1508.05559.txt', 3.3862943611198908), ('/opt/datasets/mcda-pi1-20191/papers-txt/1503.01239.txt', 3.3862943611198908), ('/opt/datasets/mcda-pi1-20191/papers-txt/1503.04424.txt', 3.3862943611198908), ('/opt/datasets/mcda-pi1-20191/papers-txt/1502.07331.txt', 3.3862943611198908), ('/opt/datasets/mcda-pi1-20191/papers-txt/1306.6109.txt', 3.3862943611198908), ('/opt/datasets/mcda-pi1-20191/papers-txt/1507.01088.txt', 3.3862943611198908), ('/opt/datasets/mcda-pi1-20191/papers-txt/1301.1071.txt', 3.0), ('/opt/datasets/mcda-pi1-20191/papers-txt/1510.00215.txt', 3.0), ('/opt/datasets/mcda-pi1-20191/papers-txt/1501.06654.txt', 3.0), ('/opt/datasets/mcda-pi1-20191/papers-txt/1505.04343.txt', 3.0), ('/opt/datasets/mcda-pi1-20191/papers-txt/1506.08235.txt', 3.0), ('/opt/datasets/mcda-pi1-20191/papers-txt/1407.0208.txt', 3.0), ('/opt/datasets/mcda-pi1-20191/papers-txt/1312.3748.txt', 3.0), ('/opt/datasets/mcda-pi1-20191/papers-txt/1502.05632.txt', 2.9459101490553135), ('/opt/datasets/mcda-pi1-20191/papers-txt/1302.2279.txt', 2.09861228866811), ('/opt/datasets/mcda-pi1-20191/papers-txt/1211.0729.txt', 2.0), ('/opt/datasets/mcda-pi1-20191/papers-txt/1506.08547.txt', 2.0), ('/opt/datasets/mcda-pi1-20191/papers-txt/1507.02954.txt', 2.0), ('/opt/datasets/mcda-pi1-20191/papers-txt/1502.07209.txt', 2.0), ('/opt/datasets/mcda-pi1-20191/papers-txt/1409.3562.txt', 2.0), ('/opt/datasets/mcda-pi1-20191/papers-txt/1511.00725.txt', 2.0), ('/opt/datasets/mcda-pi1-20191/papers-txt/1402.6787.txt', 2.0), ('/opt/datasets/mcda-pi1-20191/papers-txt/1205.3576.txt', 2.0), ('/opt/datasets/mcda-pi1-20191/papers-txt/0911.2538.txt', 2.0), ('/opt/datasets/mcda-pi1-20191/papers-txt/1506.08009.txt', 2.0), ('/opt/datasets/mcda-pi1-20191/papers-txt/1110.2053.txt', 2.0), ('/opt/datasets/mcda-pi1-20191/papers-txt/1409.2908.txt', 2.0), ('/opt/datasets/mcda-pi1-20191/papers-txt/1510.01819.txt', 2.0), ('/opt/datasets/mcda-pi1-20191/papers-txt/1511.07212.txt', 2.0), ('/opt/datasets/mcda-pi1-20191/papers-txt/1203.3341.txt', 2.0), ('/opt/datasets/mcda-pi1-20191/papers-txt/1511.00158.txt', 2.0), ('/opt/datasets/mcda-pi1-20191/papers-txt/1305.2494.txt', 2.0), ('/opt/datasets/mcda-pi1-20191/papers-txt/1001.3780.txt', 2.0), ('/opt/datasets/mcda-pi1-20191/papers-txt/1408.0848.txt', 2.0), ('/opt/datasets/mcda-pi1-20191/papers-txt/1507.05014.txt', 2.0), ('/opt/datasets/mcda-pi1-20191/papers-txt/1502.03951.txt', 2.0), ('/opt/datasets/mcda-pi1-20191/papers-txt/1510.05751.txt', 2.0), ('/opt/datasets/mcda-pi1-20191/papers-txt/1210.7638.txt', 2.0), ('/opt/datasets/mcda-pi1-20191/papers-txt/1306.4664.txt', 2.0), ('/opt/datasets/mcda-pi1-20191/papers-txt/1502.02348.txt', 2.0), ('/opt/datasets/mcda-pi1-20191/papers-txt/1201.0490.txt', 2.0), ('/opt/datasets/mcda-pi1-20191/papers-txt/1508.04596.txt', 2.0), ('/opt/datasets/mcda-pi1-20191/papers-txt/1209.0735.txt', 2.0), ('/opt/datasets/mcda-pi1-20191/papers-txt/1407.6116.txt', 2.0), ('/opt/datasets/mcda-pi1-20191/papers-txt/1410.4536.txt', 2.0), ('/opt/datasets/mcda-pi1-20191/papers-txt/1509.02709.txt', 2.0), ('/opt/datasets/mcda-pi1-20191/papers-txt/1507.04394.txt', 2.0), ('/opt/datasets/mcda-pi1-20191/papers-txt/0904.2051.txt', 2.0), ('/opt/datasets/mcda-pi1-20191/papers-txt/1407.3764.txt', 2.0), ('/opt/datasets/mcda-pi1-20191/papers-txt/1301.1027.txt', 2.0), ('/opt/datasets/mcda-pi1-20191/papers-txt/1409.1714.txt', 2.0), ('/opt/datasets/mcda-pi1-20191/papers-txt/0811.1254.txt', 2.0), ('/opt/datasets/mcda-pi1-20191/papers-txt/1206.5336.txt', 2.0), ('/opt/datasets/mcda-pi1-20191/papers-txt/1306.5111.txt', 2.0), ('/opt/datasets/mcda-pi1-20191/papers-txt/1510.08983.txt', 2.0), ('/opt/datasets/mcda-pi1-20191/papers-txt/1502.05880.txt', 2.0), ('/opt/datasets/mcda-pi1-20191/papers-txt/1504.06544.txt', 2.0), ('/opt/datasets/mcda-pi1-20191/papers-txt/1409.8230.txt', 2.0), ('/opt/datasets/mcda-pi1-20191/papers-txt/1501.04836.txt', 2.0), ('/opt/datasets/mcda-pi1-20191/papers-txt/1509.01676.txt', 2.0), ('/opt/datasets/mcda-pi1-20191/papers-txt/1505.06770.txt', 2.0), ('/opt/datasets/mcda-pi1-20191/papers-txt/1401.5277.txt', 2.0), ('/opt/datasets/mcda-pi1-20191/papers-txt/1210.4663.txt', 2.0), ('/opt/datasets/mcda-pi1-20191/papers-txt/1505.02921.txt', 2.0), ('/opt/datasets/mcda-pi1-20191/papers-txt/1503.04500.txt', 2.0), ('/opt/datasets/mcda-pi1-20191/papers-txt/1302.4808.txt', 2.0), ('/opt/datasets/mcda-pi1-20191/papers-txt/1509.07314.txt', 2.0), ('/opt/datasets/mcda-pi1-20191/papers-txt/1305.4732.txt', 2.0), ('/opt/datasets/mcda-pi1-20191/papers-txt/1208.0713.txt', 2.0), ('/opt/datasets/mcda-pi1-20191/papers-txt/1510.06423.txt', 2.0), ('/opt/datasets/mcda-pi1-20191/papers-txt/1506.00552.txt', 2.0), ('/opt/datasets/mcda-pi1-20191/papers-txt/1203.5706.txt', 2.0), ('/opt/datasets/mcda-pi1-20191/papers-txt/1203.6566.txt', 2.0), ('/opt/datasets/mcda-pi1-20191/papers-txt/0710.0736.txt', 2.0), ('/opt/datasets/mcda-pi1-20191/papers-txt/1509.00926.txt', 2.0), ('/opt/datasets/mcda-pi1-20191/papers-txt/1401.2411.txt', 2.0), ('/opt/datasets/mcda-pi1-20191/papers-txt/1508.01059.txt', 2.0), ('/opt/datasets/mcda-pi1-20191/papers-txt/0803.2570.txt', 2.0), ('/opt/datasets/mcda-pi1-20191/papers-txt/1412.7172.txt', 2.0), ('/opt/datasets/mcda-pi1-20191/papers-txt/1410.3351.txt', 2.0), ('/opt/datasets/mcda-pi1-20191/papers-txt/1504.06979.txt', 2.0), ('/opt/datasets/mcda-pi1-20191/papers-txt/1508.03263.txt', 2.0), ('/opt/datasets/mcda-pi1-20191/papers-txt/1502.02908.txt', 2.0), ('/opt/datasets/mcda-pi1-20191/papers-txt/1511.09259.txt', 2.0), ('/opt/datasets/mcda-pi1-20191/papers-txt/1407.6845.txt', 2.0), ('/opt/datasets/mcda-pi1-20191/papers-txt/1509.08892.txt', 2.0), ('/opt/datasets/mcda-pi1-20191/papers-txt/1510.08797.txt', 2.0), ('/opt/datasets/mcda-pi1-20191/papers-txt/1306.3875.txt', 2.0), ('/opt/datasets/mcda-pi1-20191/papers-txt/1205.4874.txt', 2.0), ('/opt/datasets/mcda-pi1-20191/papers-txt/1006.0719.txt', 2.0), ('/opt/datasets/mcda-pi1-20191/papers-txt/1510.01844.txt', 2.0), ('/opt/datasets/mcda-pi1-20191/papers-txt/1502.02511.txt', 2.0), ('/opt/datasets/mcda-pi1-20191/papers-txt/1411.0998.txt', 2.0), ('/opt/datasets/mcda-pi1-20191/papers-txt/1507.06576.txt', 2.0), ('/opt/datasets/mcda-pi1-20191/papers-txt/1412.1866.txt', 2.0), ('/opt/datasets/mcda-pi1-20191/papers-txt/1512.00135.txt', 2.0), ('/opt/datasets/mcda-pi1-20191/papers-txt/1406.2587.txt', 2.0), ('/opt/datasets/mcda-pi1-20191/papers-txt/1508.02521.txt', 2.0), ('/opt/datasets/mcda-pi1-20191/papers-txt/1307.4062.txt', 2.0), ('/opt/datasets/mcda-pi1-20191/papers-txt/1511.01807.txt', 2.0), ('/opt/datasets/mcda-pi1-20191/papers-txt/1505.00199.txt', 2.0), ('/opt/datasets/mcda-pi1-20191/papers-txt/1202.4707.txt', 2.0), ('/opt/datasets/mcda-pi1-20191/papers-txt/1501.05151.txt', 2.0), ('/opt/datasets/mcda-pi1-20191/papers-txt/1508.01950.txt', 2.0), ('/opt/datasets/mcda-pi1-20191/papers-txt/1411.1420.txt', 2.0), ('/opt/datasets/mcda-pi1-20191/papers-txt/1505.05451.txt', 2.0), ('/opt/datasets/mcda-pi1-20191/papers-txt/1105.1302.txt', 2.0), ('/opt/datasets/mcda-pi1-20191/papers-txt/1311.1339.txt', 2.0), ('/opt/datasets/mcda-pi1-20191/papers-txt/1510.02923.txt', 2.0), ('/opt/datasets/mcda-pi1-20191/papers-txt/0812.2709.txt', 2.0), ('/opt/datasets/mcda-pi1-20191/papers-txt/1305.0750.txt', 2.0), ('/opt/datasets/mcda-pi1-20191/papers-txt/1510.03935.txt', 2.0), ('/opt/datasets/mcda-pi1-20191/papers-txt/1411.4696.txt', 2.0), ('/opt/datasets/mcda-pi1-20191/papers-txt/1407.5374.txt', 2.0), ('/opt/datasets/mcda-pi1-20191/papers-txt/1501.04318.txt', 2.0), ('/opt/datasets/mcda-pi1-20191/papers-txt/1509.03484.txt', 2.0), ('/opt/datasets/mcda-pi1-20191/papers-txt/1511.01238.txt', 2.0), ('/opt/datasets/mcda-pi1-20191/papers-txt/1506.03437.txt', 2.0), ('/opt/datasets/mcda-pi1-20191/papers-txt/1508.05117.txt', 2.0), ('/opt/datasets/mcda-pi1-20191/papers-txt/1404.5029.txt', 2.0), ('/opt/datasets/mcda-pi1-20191/papers-txt/1504.02141.txt', 2.0), ('/opt/datasets/mcda-pi1-20191/papers-txt/1508.00315.txt', 2.0), ('/opt/datasets/mcda-pi1-20191/papers-txt/1501.04706.txt', 2.0), ('/opt/datasets/mcda-pi1-20191/papers-txt/1208.3251.txt', 2.0), ('/opt/datasets/mcda-pi1-20191/papers-txt/1510.06482.txt', 2.0), ('/opt/datasets/mcda-pi1-20191/papers-txt/1404.1008.txt', 2.0), ('/opt/datasets/mcda-pi1-20191/papers-txt/1504.01019.txt', 2.0), ('/opt/datasets/mcda-pi1-20191/papers-txt/1506.04651.txt', 1.0), ('/opt/datasets/mcda-pi1-20191/papers-txt/1411.0187.txt', 1.0), ('/opt/datasets/mcda-pi1-20191/papers-txt/1412.7646.txt', 1.0), ('/opt/datasets/mcda-pi1-20191/papers-txt/1412.7998.txt', 1.0), ('/opt/datasets/mcda-pi1-20191/papers-txt/1107.0088.txt', 1.0), ('/opt/datasets/mcda-pi1-20191/papers-txt/1506.07437.txt', 1.0)]\n"
     ]
    }
   ],
   "source": [
    "import operator\n",
    "result_query = {}\n",
    "for documento, words in bag_of_words.items():\n",
    "    for key, value in words.items():\n",
    "        if key in query:\n",
    "            if documento in result_query:\n",
    "                result_query[documento] += query[key] * value['tf']\n",
    "            else:\n",
    "                result_query[documento] = query[key] * value['tf']\n",
    "\n",
    "                \n",
    "resultado = sorted(result_query.items(), key=operator.itemgetter(1), reverse=True)\n",
    "print(\"Son {} resultados.... {}\".format(len(resultado), resultado))"
   ]
  },
  {
   "cell_type": "markdown",
   "metadata": {},
   "source": [
    "# Metricas"
   ]
  },
  {
   "cell_type": "code",
   "execution_count": null,
   "metadata": {},
   "outputs": [],
   "source": [
    "#Contar documentos\n",
    "len(bag_of_words)"
   ]
  },
  {
   "cell_type": "code",
   "execution_count": null,
   "metadata": {},
   "outputs": [],
   "source": [
    "#Contar numero de palabras por documento despues de limpieza\n",
    "x_doc = [] # documentos\n",
    "y_doc = [] # num palabras unicas por doc\n",
    "total_palabras_doc = [] # total palabras\n",
    "for documento, words in bag_of_words.items():\n",
    "    x_doc.append(documento)\n",
    "    y_doc.append(len(words))\n",
    "    numero_palabras = 0\n",
    "    for word, values in words.items():\n",
    "        numero_palabras += values['freq']\n",
    "    total_palabras_doc.append(numero_palabras)\n",
    "\n",
    "#Imprimir Solo un documento\n",
    "print(\"El documento '{}' tiene {} palabras unicas despues del proceso de limpieza\".format(x_doc[0][-15:], y_doc[0]))\n",
    "print(\"El total de palabras contenido en el texto es de {}\".format(total_palabras_doc[0]))"
   ]
  },
  {
   "cell_type": "code",
   "execution_count": null,
   "metadata": {},
   "outputs": [],
   "source": [
    "palabras_raras = collections.OrderedDict()\n",
    "palabras_tres_caracteres = collections.OrderedDict()\n",
    "i = 0\n",
    "for documento, words in bag_of_words.items():\n",
    "    for word, values in words.items():\n",
    "        if len(word) > 10 and values['freq'] < 2:\n",
    "            palabras_raras[i] = word\n",
    "            i+=1\n",
    "        if bool(re.search(r'((\\w)\\2{2,})', word)):\n",
    "            palabras_tres_caracteres[word] = values['freq']\n",
    "palabras_raras"
   ]
  },
  {
   "cell_type": "code",
   "execution_count": null,
   "metadata": {},
   "outputs": [],
   "source": [
    "palabras_tres_caracteres"
   ]
  },
  {
   "cell_type": "markdown",
   "metadata": {},
   "source": [
    "# Cosas Varias"
   ]
  },
  {
   "cell_type": "code",
   "execution_count": null,
   "metadata": {},
   "outputs": [],
   "source": [
    "#Buscar documentos con X palabra\n",
    "#palabras\n",
    "raras = []\n",
    "#bbbbbbbbbbbbbbbbbbbbbbbbbbbbbbbbbbbbb\n",
    "for documento, words in bag_of_words.items():\n",
    "    if 'integrationsreihenfolg' in words:\n",
    "        raras.append(documento)\n",
    "\n",
    "#buscar palabrasde mas de 15 caracteres       \n",
    "for palabra in palabras:\n",
    "    if len(palabra) > 15:\n",
    "        print(palabra)"
   ]
  },
  {
   "cell_type": "code",
   "execution_count": null,
   "metadata": {},
   "outputs": [],
   "source": [
    "#/opt/datasets/mcda-pi1-20191/papers-txt/1501.02741.txt\n",
    "bag_of_words['/opt/datasets/mcda-pi1-20191/papers-txt/1501.02741.txt']['user']\n",
    "\n",
    "input_file = open('/opt/datasets/mcda-pi1-20191/papers-txt/1501.02741.txt',\"r\",encoding='utf-8')\n",
    "texto = input_file.read()\n",
    "#texto = re.sub('[^A-Za-z0-9]+',' ',texto) # Caracteres especiales\n",
    "tokens = texto.split()\n",
    "stemmer = PorterStemmer()\n",
    "stemmer2 = LancasterStemmer()\n",
    "tokens = [wordnet_lemmatizer.lemmatize(stemmer.stem(w.lower()), pos=\"v\") for w in tokens if (len(w)>1) and w.isalpha() and w not in sw] # Longitud mayor a 1\n",
    "counter=collections.Counter(tokens)\n",
    "dict(counter)['einhäuser']"
   ]
  },
  {
   "cell_type": "code",
   "execution_count": null,
   "metadata": {},
   "outputs": [],
   "source": [
    "#Traductor\n",
    "def detect_language(text):\n",
    "\n",
    "    languages_ratios = {}\n",
    "    tokens = tokens = texto.split()\n",
    "    tokens = [w.lower() for w in tokens]\n",
    "    # Compute per language included in nltk number of unique stopwords appearing in analyzed text\n",
    "    for language in stopwords.fileids():\n",
    "        stopwords_set = set(stopwords.words(language))\n",
    "        words_set = set(tokens)\n",
    "        common_elements = words_set.intersection(stopwords_set)\n",
    "        languages_ratios[language] = len(common_elements) # language \"score\"\n",
    "    return max(languages_ratios, key=languages_ratios.get)\n",
    "\n",
    "\n",
    "#----------------------------------------------------------------------\n",
    "input_file = open(files_txt[0],\"r\",encoding='utf-8')\n",
    "texto = input_file.read()\n",
    "language = detect_language(texto)\n",
    "language"
   ]
  },
  {
   "cell_type": "code",
   "execution_count": null,
   "metadata": {},
   "outputs": [],
   "source": [
    "'einhäuser' in total"
   ]
  },
  {
   "cell_type": "code",
   "execution_count": 35,
   "metadata": {},
   "outputs": [],
   "source": [
    "import ast"
   ]
  }
 ],
 "metadata": {
  "kernelspec": {
   "display_name": "Python3.6(conda)",
   "language": "python",
   "name": "python36"
  },
  "language_info": {
   "codemirror_mode": {
    "name": "ipython",
    "version": 3
   },
   "file_extension": ".py",
   "mimetype": "text/x-python",
   "name": "python",
   "nbconvert_exporter": "python",
   "pygments_lexer": "ipython3",
   "version": "3.6.8"
  }
 },
 "nbformat": 4,
 "nbformat_minor": 2
}
